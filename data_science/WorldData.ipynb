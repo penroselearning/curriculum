{
 "cells": [
  {
   "cell_type": "markdown",
   "metadata": {},
   "source": [
    "# World Population Statistics\n",
    "---\n",
    "\n",
    "## Purpose of Study\n",
    "Gather Countrywise details of the Current World Population and Estimate Global Population by 2050.\n",
    "\n",
    "## Data Objectives\n",
    "\n",
    "* Connect to External Resource for Live Population Data\n",
    "* Calculate Population Growth Rate\n",
    "* Rank Countries on Population Size, Area and Population Density\n",
    "* Countries with Declining Population Growth\n",
    "* Top 10 Countries with Highest Population Density\n",
    "* Group the Final Dataset by Continents\n",
    "* Export the Final Outcomes to an Excel File with Date Stamp"
   ]
  },
  {
   "cell_type": "markdown",
   "metadata": {},
   "source": [
    "### Import the Libraries"
   ]
  },
  {
   "cell_type": "code",
   "execution_count": 8,
   "metadata": {},
   "outputs": [],
   "source": [
    "import pandas as pd\n",
    "import matplotlib.pyplot as plt\n",
    "from population import live_data,growth_rate,population_density\n",
    "import math\n",
    "from datetime import datetime\n",
    "import numpy as np"
   ]
  },
  {
   "cell_type": "markdown",
   "metadata": {},
   "source": [
    "### Read the Countries Data from the CSV File\n",
    "The file contains information on Square Kilometer Area of Each Country"
   ]
  },
  {
   "cell_type": "code",
   "execution_count": 30,
   "metadata": {},
   "outputs": [],
   "source": [
    "df1 = pd.read_csv(\"countries.csv\")"
   ]
  },
  {
   "cell_type": "code",
   "execution_count": 31,
   "metadata": {},
   "outputs": [
    {
     "ename": "ValueError",
     "evalue": "Cannot specify ',' with 's'.",
     "output_type": "error",
     "traceback": [
      "\u001b[0;31m---------------------------------------------------------------------------\u001b[0m",
      "\u001b[0;31mValueError\u001b[0m                                Traceback (most recent call last)",
      "\u001b[0;32m//anaconda3/lib/python3.7/site-packages/IPython/core/formatters.py\u001b[0m in \u001b[0;36m__call__\u001b[0;34m(self, obj)\u001b[0m\n\u001b[1;32m    343\u001b[0m             \u001b[0mmethod\u001b[0m \u001b[0;34m=\u001b[0m \u001b[0mget_real_method\u001b[0m\u001b[0;34m(\u001b[0m\u001b[0mobj\u001b[0m\u001b[0;34m,\u001b[0m \u001b[0mself\u001b[0m\u001b[0;34m.\u001b[0m\u001b[0mprint_method\u001b[0m\u001b[0;34m)\u001b[0m\u001b[0;34m\u001b[0m\u001b[0;34m\u001b[0m\u001b[0m\n\u001b[1;32m    344\u001b[0m             \u001b[0;32mif\u001b[0m \u001b[0mmethod\u001b[0m \u001b[0;32mis\u001b[0m \u001b[0;32mnot\u001b[0m \u001b[0;32mNone\u001b[0m\u001b[0;34m:\u001b[0m\u001b[0;34m\u001b[0m\u001b[0;34m\u001b[0m\u001b[0m\n\u001b[0;32m--> 345\u001b[0;31m                 \u001b[0;32mreturn\u001b[0m \u001b[0mmethod\u001b[0m\u001b[0;34m(\u001b[0m\u001b[0;34m)\u001b[0m\u001b[0;34m\u001b[0m\u001b[0;34m\u001b[0m\u001b[0m\n\u001b[0m\u001b[1;32m    346\u001b[0m             \u001b[0;32mreturn\u001b[0m \u001b[0;32mNone\u001b[0m\u001b[0;34m\u001b[0m\u001b[0;34m\u001b[0m\u001b[0m\n\u001b[1;32m    347\u001b[0m         \u001b[0;32melse\u001b[0m\u001b[0;34m:\u001b[0m\u001b[0;34m\u001b[0m\u001b[0;34m\u001b[0m\u001b[0m\n",
      "\u001b[0;32m//anaconda3/lib/python3.7/site-packages/pandas/io/formats/style.py\u001b[0m in \u001b[0;36m_repr_html_\u001b[0;34m(self)\u001b[0m\n\u001b[1;32m    180\u001b[0m         \u001b[0mHooks\u001b[0m \u001b[0minto\u001b[0m \u001b[0mJupyter\u001b[0m \u001b[0mnotebook\u001b[0m \u001b[0mrich\u001b[0m \u001b[0mdisplay\u001b[0m \u001b[0msystem\u001b[0m\u001b[0;34m.\u001b[0m\u001b[0;34m\u001b[0m\u001b[0;34m\u001b[0m\u001b[0m\n\u001b[1;32m    181\u001b[0m         \"\"\"\n\u001b[0;32m--> 182\u001b[0;31m         \u001b[0;32mreturn\u001b[0m \u001b[0mself\u001b[0m\u001b[0;34m.\u001b[0m\u001b[0mrender\u001b[0m\u001b[0;34m(\u001b[0m\u001b[0;34m)\u001b[0m\u001b[0;34m\u001b[0m\u001b[0;34m\u001b[0m\u001b[0m\n\u001b[0m\u001b[1;32m    183\u001b[0m \u001b[0;34m\u001b[0m\u001b[0m\n\u001b[1;32m    184\u001b[0m     @Appender(\n",
      "\u001b[0;32m//anaconda3/lib/python3.7/site-packages/pandas/io/formats/style.py\u001b[0m in \u001b[0;36mrender\u001b[0;34m(self, **kwargs)\u001b[0m\n\u001b[1;32m    537\u001b[0m         \u001b[0mself\u001b[0m\u001b[0;34m.\u001b[0m\u001b[0m_compute\u001b[0m\u001b[0;34m(\u001b[0m\u001b[0;34m)\u001b[0m\u001b[0;34m\u001b[0m\u001b[0;34m\u001b[0m\u001b[0m\n\u001b[1;32m    538\u001b[0m         \u001b[0;31m# TODO: namespace all the pandas keys\u001b[0m\u001b[0;34m\u001b[0m\u001b[0;34m\u001b[0m\u001b[0;34m\u001b[0m\u001b[0m\n\u001b[0;32m--> 539\u001b[0;31m         \u001b[0md\u001b[0m \u001b[0;34m=\u001b[0m \u001b[0mself\u001b[0m\u001b[0;34m.\u001b[0m\u001b[0m_translate\u001b[0m\u001b[0;34m(\u001b[0m\u001b[0;34m)\u001b[0m\u001b[0;34m\u001b[0m\u001b[0;34m\u001b[0m\u001b[0m\n\u001b[0m\u001b[1;32m    540\u001b[0m         \u001b[0;31m# filter out empty styles, every cell will have a class\u001b[0m\u001b[0;34m\u001b[0m\u001b[0;34m\u001b[0m\u001b[0;34m\u001b[0m\u001b[0m\n\u001b[1;32m    541\u001b[0m         \u001b[0;31m# but the list of props may just be [['', '']].\u001b[0m\u001b[0;34m\u001b[0m\u001b[0;34m\u001b[0m\u001b[0;34m\u001b[0m\u001b[0m\n",
      "\u001b[0;32m//anaconda3/lib/python3.7/site-packages/pandas/io/formats/style.py\u001b[0m in \u001b[0;36m_translate\u001b[0;34m(self)\u001b[0m\n\u001b[1;32m    387\u001b[0m                     \u001b[0;34m\"value\"\u001b[0m\u001b[0;34m:\u001b[0m \u001b[0mvalue\u001b[0m\u001b[0;34m,\u001b[0m\u001b[0;34m\u001b[0m\u001b[0;34m\u001b[0m\u001b[0m\n\u001b[1;32m    388\u001b[0m                     \u001b[0;34m\"class\"\u001b[0m\u001b[0;34m:\u001b[0m \u001b[0;34m\" \"\u001b[0m\u001b[0;34m.\u001b[0m\u001b[0mjoin\u001b[0m\u001b[0;34m(\u001b[0m\u001b[0mcs\u001b[0m\u001b[0;34m)\u001b[0m\u001b[0;34m,\u001b[0m\u001b[0;34m\u001b[0m\u001b[0;34m\u001b[0m\u001b[0m\n\u001b[0;32m--> 389\u001b[0;31m                     \u001b[0;34m\"display_value\"\u001b[0m\u001b[0;34m:\u001b[0m \u001b[0mformatter\u001b[0m\u001b[0;34m(\u001b[0m\u001b[0mvalue\u001b[0m\u001b[0;34m)\u001b[0m\u001b[0;34m,\u001b[0m\u001b[0;34m\u001b[0m\u001b[0;34m\u001b[0m\u001b[0m\n\u001b[0m\u001b[1;32m    390\u001b[0m                     \u001b[0;34m\"is_visible\"\u001b[0m\u001b[0;34m:\u001b[0m \u001b[0;34m(\u001b[0m\u001b[0mc\u001b[0m \u001b[0;32mnot\u001b[0m \u001b[0;32min\u001b[0m \u001b[0mhidden_columns\u001b[0m\u001b[0;34m)\u001b[0m\u001b[0;34m,\u001b[0m\u001b[0;34m\u001b[0m\u001b[0;34m\u001b[0m\u001b[0m\n\u001b[1;32m    391\u001b[0m                 }\n",
      "\u001b[0;32m//anaconda3/lib/python3.7/site-packages/pandas/io/formats/style.py\u001b[0m in \u001b[0;36m<lambda>\u001b[0;34m(x)\u001b[0m\n\u001b[1;32m   1513\u001b[0m \u001b[0;32mdef\u001b[0m \u001b[0m_maybe_wrap_formatter\u001b[0m\u001b[0;34m(\u001b[0m\u001b[0mformatter\u001b[0m\u001b[0;34m,\u001b[0m \u001b[0mna_rep\u001b[0m\u001b[0;34m:\u001b[0m \u001b[0mOptional\u001b[0m\u001b[0;34m[\u001b[0m\u001b[0mstr\u001b[0m\u001b[0;34m]\u001b[0m\u001b[0;34m)\u001b[0m\u001b[0;34m:\u001b[0m\u001b[0;34m\u001b[0m\u001b[0;34m\u001b[0m\u001b[0m\n\u001b[1;32m   1514\u001b[0m     \u001b[0;32mif\u001b[0m \u001b[0misinstance\u001b[0m\u001b[0;34m(\u001b[0m\u001b[0mformatter\u001b[0m\u001b[0;34m,\u001b[0m \u001b[0mstr\u001b[0m\u001b[0;34m)\u001b[0m\u001b[0;34m:\u001b[0m\u001b[0;34m\u001b[0m\u001b[0;34m\u001b[0m\u001b[0m\n\u001b[0;32m-> 1515\u001b[0;31m         \u001b[0mformatter_func\u001b[0m \u001b[0;34m=\u001b[0m \u001b[0;32mlambda\u001b[0m \u001b[0mx\u001b[0m\u001b[0;34m:\u001b[0m \u001b[0mformatter\u001b[0m\u001b[0;34m.\u001b[0m\u001b[0mformat\u001b[0m\u001b[0;34m(\u001b[0m\u001b[0mx\u001b[0m\u001b[0;34m)\u001b[0m\u001b[0;34m\u001b[0m\u001b[0;34m\u001b[0m\u001b[0m\n\u001b[0m\u001b[1;32m   1516\u001b[0m     \u001b[0;32melif\u001b[0m \u001b[0mcallable\u001b[0m\u001b[0;34m(\u001b[0m\u001b[0mformatter\u001b[0m\u001b[0;34m)\u001b[0m\u001b[0;34m:\u001b[0m\u001b[0;34m\u001b[0m\u001b[0;34m\u001b[0m\u001b[0m\n\u001b[1;32m   1517\u001b[0m         \u001b[0mformatter_func\u001b[0m \u001b[0;34m=\u001b[0m \u001b[0mformatter\u001b[0m\u001b[0;34m\u001b[0m\u001b[0;34m\u001b[0m\u001b[0m\n",
      "\u001b[0;31mValueError\u001b[0m: Cannot specify ',' with 's'."
     ]
    },
    {
     "data": {
      "text/plain": [
       "<pandas.io.formats.style.Styler at 0x115e4e128>"
      ]
     },
     "execution_count": 31,
     "metadata": {},
     "output_type": "execute_result"
    }
   ],
   "source": [
    "df1.style.format('{:,}')"
   ]
  },
  {
   "cell_type": "code",
   "execution_count": 29,
   "metadata": {},
   "outputs": [
    {
     "name": "stdout",
     "output_type": "stream",
     "text": [
      "<class 'pandas.core.frame.DataFrame'>\n",
      "RangeIndex: 236 entries, 0 to 235\n",
      "Data columns (total 4 columns):\n",
      " #   Column      Non-Null Count  Dtype \n",
      "---  ------      --------------  ----- \n",
      " 0   Unnamed: 0  236 non-null    int64 \n",
      " 1   Country     236 non-null    object\n",
      " 2   Area        236 non-null    object\n",
      " 3   Continent   236 non-null    object\n",
      "dtypes: int64(1), object(3)\n",
      "memory usage: 7.5+ KB\n"
     ]
    }
   ],
   "source": [
    "df1.info()"
   ]
  },
  {
   "cell_type": "code",
   "execution_count": 32,
   "metadata": {},
   "outputs": [
    {
     "data": {
      "text/html": [
       "<div>\n",
       "<style scoped>\n",
       "    .dataframe tbody tr th:only-of-type {\n",
       "        vertical-align: middle;\n",
       "    }\n",
       "\n",
       "    .dataframe tbody tr th {\n",
       "        vertical-align: top;\n",
       "    }\n",
       "\n",
       "    .dataframe thead th {\n",
       "        text-align: right;\n",
       "    }\n",
       "</style>\n",
       "<table border=\"1\" class=\"dataframe\">\n",
       "  <thead>\n",
       "    <tr style=\"text-align: right;\">\n",
       "      <th></th>\n",
       "      <th>Area</th>\n",
       "    </tr>\n",
       "    <tr>\n",
       "      <th>Continent</th>\n",
       "      <th></th>\n",
       "    </tr>\n",
       "  </thead>\n",
       "  <tbody>\n",
       "    <tr>\n",
       "      <th>Africa</th>\n",
       "      <td>29773986.0</td>\n",
       "    </tr>\n",
       "    <tr>\n",
       "      <th>Antarctica</th>\n",
       "      <td>14000000.0</td>\n",
       "    </tr>\n",
       "    <tr>\n",
       "      <th>Asia</th>\n",
       "      <td>47253650.2</td>\n",
       "    </tr>\n",
       "    <tr>\n",
       "      <th>Australia</th>\n",
       "      <td>8488322.6</td>\n",
       "    </tr>\n",
       "    <tr>\n",
       "      <th>Europe</th>\n",
       "      <td>5700169.2</td>\n",
       "    </tr>\n",
       "    <tr>\n",
       "      <th>North America</th>\n",
       "      <td>23087646.7</td>\n",
       "    </tr>\n",
       "    <tr>\n",
       "      <th>South America</th>\n",
       "      <td>17422511.0</td>\n",
       "    </tr>\n",
       "    <tr>\n",
       "      <th>Total</th>\n",
       "      <td>145726285.7</td>\n",
       "    </tr>\n",
       "  </tbody>\n",
       "</table>\n",
       "</div>"
      ],
      "text/plain": [
       "                      Area\n",
       "Continent                 \n",
       "Africa          29773986.0\n",
       "Antarctica      14000000.0\n",
       "Asia            47253650.2\n",
       "Australia        8488322.6\n",
       "Europe           5700169.2\n",
       "North America   23087646.7\n",
       "South America   17422511.0\n",
       "Total          145726285.7"
      ]
     },
     "execution_count": 32,
     "metadata": {},
     "output_type": "execute_result"
    }
   ],
   "source": [
    "df1.pivot_table(index=\"Continent\",values=\"Area\",aggfunc=\"sum\",margins=True,margins_name=\"Total\")"
   ]
  },
  {
   "cell_type": "code",
   "execution_count": 3,
   "metadata": {},
   "outputs": [
    {
     "data": {
      "text/html": [
       "<div>\n",
       "<style scoped>\n",
       "    .dataframe tbody tr th:only-of-type {\n",
       "        vertical-align: middle;\n",
       "    }\n",
       "\n",
       "    .dataframe tbody tr th {\n",
       "        vertical-align: top;\n",
       "    }\n",
       "\n",
       "    .dataframe thead th {\n",
       "        text-align: right;\n",
       "    }\n",
       "</style>\n",
       "<table border=\"1\" class=\"dataframe\">\n",
       "  <thead>\n",
       "    <tr style=\"text-align: right;\">\n",
       "      <th></th>\n",
       "      <th>Unnamed: 0</th>\n",
       "      <th>Country</th>\n",
       "      <th>Area</th>\n",
       "      <th>Continent</th>\n",
       "    </tr>\n",
       "  </thead>\n",
       "  <tbody>\n",
       "    <tr>\n",
       "      <th>0</th>\n",
       "      <td>0</td>\n",
       "      <td>Antarctica</td>\n",
       "      <td>14000000.0</td>\n",
       "      <td>Antarctica</td>\n",
       "    </tr>\n",
       "    <tr>\n",
       "      <th>1</th>\n",
       "      <td>1</td>\n",
       "      <td>China</td>\n",
       "      <td>9326410.0</td>\n",
       "      <td>Asia</td>\n",
       "    </tr>\n",
       "    <tr>\n",
       "      <th>2</th>\n",
       "      <td>2</td>\n",
       "      <td>United States</td>\n",
       "      <td>9147593.0</td>\n",
       "      <td>North America</td>\n",
       "    </tr>\n",
       "    <tr>\n",
       "      <th>3</th>\n",
       "      <td>3</td>\n",
       "      <td>Canada</td>\n",
       "      <td>9093507.0</td>\n",
       "      <td>North America</td>\n",
       "    </tr>\n",
       "    <tr>\n",
       "      <th>4</th>\n",
       "      <td>4</td>\n",
       "      <td>Brazil</td>\n",
       "      <td>8358140.0</td>\n",
       "      <td>South America</td>\n",
       "    </tr>\n",
       "  </tbody>\n",
       "</table>\n",
       "</div>"
      ],
      "text/plain": [
       "   Unnamed: 0        Country        Area      Continent\n",
       "0           0     Antarctica  14000000.0     Antarctica\n",
       "1           1          China   9326410.0           Asia\n",
       "2           2  United States   9147593.0  North America\n",
       "3           3         Canada   9093507.0  North America\n",
       "4           4         Brazil   8358140.0  South America"
      ]
     },
     "execution_count": 3,
     "metadata": {},
     "output_type": "execute_result"
    }
   ],
   "source": [
    "df1.head()"
   ]
  },
  {
   "cell_type": "markdown",
   "metadata": {},
   "source": [
    "### Read Live Population Data from a Website\n",
    "Source: www.worldpopulationreview.com"
   ]
  },
  {
   "cell_type": "code",
   "execution_count": 36,
   "metadata": {},
   "outputs": [],
   "source": [
    "df2 = pd.read_html(live_data('https://worldpopulationreview.com/countries/median-age').text)\n",
    "\n",
    "#df2 = pd.read_html(live_data('https://worldpopulationreview.com/countries/#popTable').text)\n",
    "df2 = df2[0]"
   ]
  },
  {
   "cell_type": "code",
   "execution_count": 37,
   "metadata": {},
   "outputs": [
    {
     "data": {
      "text/plain": [
       "(214, 4)"
      ]
     },
     "execution_count": 37,
     "metadata": {},
     "output_type": "execute_result"
    }
   ],
   "source": [
    "#df2.head()\n",
    "df2.shape"
   ]
  },
  {
   "cell_type": "code",
   "execution_count": 38,
   "metadata": {},
   "outputs": [],
   "source": [
    "rename = {\"Place\":\"Country,Other\",\n",
    "         \"Median\":\"Median Age\"}\n",
    "df2.rename(columns=rename,inplace=True)"
   ]
  },
  {
   "cell_type": "code",
   "execution_count": 39,
   "metadata": {},
   "outputs": [],
   "source": [
    "df2.drop([\"Median Male\",\"Median Female\"],axis=1,inplace=True)"
   ]
  },
  {
   "cell_type": "code",
   "execution_count": 40,
   "metadata": {},
   "outputs": [],
   "source": [
    "df2[\"Median Age\"] = df2[\"Median Age\"].apply(lambda x:float(x.strip(' years')))"
   ]
  },
  {
   "cell_type": "code",
   "execution_count": 41,
   "metadata": {},
   "outputs": [],
   "source": [
    "df2.to_csv(\"median_age.csv\",index=False)"
   ]
  },
  {
   "cell_type": "markdown",
   "metadata": {},
   "source": [
    "### Merge the Two DataFrames\n",
    "Merge the Two DataFrames using the common Column Country. Leave out uncommon entries in both dataframes"
   ]
  },
  {
   "cell_type": "code",
   "execution_count": 6,
   "metadata": {},
   "outputs": [],
   "source": [
    "df = pd.merge(df1,df2,how=\"inner\",on=\"Country\")"
   ]
  },
  {
   "cell_type": "code",
   "execution_count": 7,
   "metadata": {},
   "outputs": [
    {
     "name": "stdout",
     "output_type": "stream",
     "text": [
      "<class 'pandas.core.frame.DataFrame'>\n",
      "Int64Index: 225 entries, 0 to 224\n",
      "Data columns (total 10 columns):\n",
      "Unnamed: 0         225 non-null int64\n",
      "Country            225 non-null object\n",
      "Area               225 non-null float64\n",
      "Continent          225 non-null object\n",
      "Rank               225 non-null int64\n",
      "2020 Population    225 non-null int64\n",
      "2019 Population    225 non-null int64\n",
      "Growth Rate        225 non-null object\n",
      "Area (kmÂ²)        225 non-null float64\n",
      "2018 Density       225 non-null object\n",
      "dtypes: float64(2), int64(4), object(4)\n",
      "memory usage: 19.3+ KB\n"
     ]
    }
   ],
   "source": [
    "df.info()"
   ]
  },
  {
   "cell_type": "code",
   "execution_count": 8,
   "metadata": {},
   "outputs": [
    {
     "data": {
      "text/html": [
       "<div>\n",
       "<style scoped>\n",
       "    .dataframe tbody tr th:only-of-type {\n",
       "        vertical-align: middle;\n",
       "    }\n",
       "\n",
       "    .dataframe tbody tr th {\n",
       "        vertical-align: top;\n",
       "    }\n",
       "\n",
       "    .dataframe thead th {\n",
       "        text-align: right;\n",
       "    }\n",
       "</style>\n",
       "<table border=\"1\" class=\"dataframe\">\n",
       "  <thead>\n",
       "    <tr style=\"text-align: right;\">\n",
       "      <th></th>\n",
       "      <th>Unnamed: 0</th>\n",
       "      <th>Country</th>\n",
       "      <th>Area</th>\n",
       "      <th>Continent</th>\n",
       "      <th>Rank</th>\n",
       "      <th>2020 Population</th>\n",
       "      <th>2019 Population</th>\n",
       "      <th>Growth Rate</th>\n",
       "      <th>Area (kmÂ²)</th>\n",
       "      <th>2018 Density</th>\n",
       "    </tr>\n",
       "  </thead>\n",
       "  <tbody>\n",
       "    <tr>\n",
       "      <th>0</th>\n",
       "      <td>1</td>\n",
       "      <td>China</td>\n",
       "      <td>9326410.0</td>\n",
       "      <td>Asia</td>\n",
       "      <td>1</td>\n",
       "      <td>1439323776</td>\n",
       "      <td>1433783686</td>\n",
       "      <td>0.39%</td>\n",
       "      <td>9706961.0</td>\n",
       "      <td>148/kmÂ²</td>\n",
       "    </tr>\n",
       "    <tr>\n",
       "      <th>1</th>\n",
       "      <td>2</td>\n",
       "      <td>United States</td>\n",
       "      <td>9147593.0</td>\n",
       "      <td>North America</td>\n",
       "      <td>3</td>\n",
       "      <td>331002651</td>\n",
       "      <td>329064917</td>\n",
       "      <td>0.59%</td>\n",
       "      <td>9372610.0</td>\n",
       "      <td>35/kmÂ²</td>\n",
       "    </tr>\n",
       "    <tr>\n",
       "      <th>2</th>\n",
       "      <td>3</td>\n",
       "      <td>Canada</td>\n",
       "      <td>9093507.0</td>\n",
       "      <td>North America</td>\n",
       "      <td>39</td>\n",
       "      <td>37742154</td>\n",
       "      <td>37411047</td>\n",
       "      <td>0.89%</td>\n",
       "      <td>9984670.0</td>\n",
       "      <td>4/kmÂ²</td>\n",
       "    </tr>\n",
       "    <tr>\n",
       "      <th>3</th>\n",
       "      <td>4</td>\n",
       "      <td>Brazil</td>\n",
       "      <td>8358140.0</td>\n",
       "      <td>South America</td>\n",
       "      <td>6</td>\n",
       "      <td>212559417</td>\n",
       "      <td>211049527</td>\n",
       "      <td>0.72%</td>\n",
       "      <td>8515767.0</td>\n",
       "      <td>25/kmÂ²</td>\n",
       "    </tr>\n",
       "    <tr>\n",
       "      <th>4</th>\n",
       "      <td>5</td>\n",
       "      <td>Australia</td>\n",
       "      <td>7682300.0</td>\n",
       "      <td>Australia</td>\n",
       "      <td>55</td>\n",
       "      <td>25499884</td>\n",
       "      <td>25203198</td>\n",
       "      <td>1.18%</td>\n",
       "      <td>7692024.0</td>\n",
       "      <td>3/kmÂ²</td>\n",
       "    </tr>\n",
       "  </tbody>\n",
       "</table>\n",
       "</div>"
      ],
      "text/plain": [
       "   Unnamed: 0        Country       Area      Continent  Rank  2020 Population  \\\n",
       "0           1          China  9326410.0           Asia     1       1439323776   \n",
       "1           2  United States  9147593.0  North America     3        331002651   \n",
       "2           3         Canada  9093507.0  North America    39         37742154   \n",
       "3           4         Brazil  8358140.0  South America     6        212559417   \n",
       "4           5      Australia  7682300.0      Australia    55         25499884   \n",
       "\n",
       "   2019 Population Growth Rate  Area (kmÂ²) 2018 Density  \n",
       "0       1433783686       0.39%    9706961.0     148/kmÂ²  \n",
       "1        329064917       0.59%    9372610.0      35/kmÂ²  \n",
       "2         37411047       0.89%    9984670.0       4/kmÂ²  \n",
       "3        211049527       0.72%    8515767.0      25/kmÂ²  \n",
       "4         25203198       1.18%    7692024.0       3/kmÂ²  "
      ]
     },
     "execution_count": 8,
     "metadata": {},
     "output_type": "execute_result"
    }
   ],
   "source": [
    "df.head()"
   ]
  },
  {
   "cell_type": "markdown",
   "metadata": {},
   "source": [
    "#### Findings\n",
    "\n",
    "* There are two columns providing information on Area. When randomly verifying the Area column, it is found to have innaccurate information."
   ]
  },
  {
   "cell_type": "markdown",
   "metadata": {},
   "source": [
    "---\n",
    "### Drop Duplicate Column\n",
    "Drop Column \"Area\""
   ]
  },
  {
   "cell_type": "code",
   "execution_count": 9,
   "metadata": {},
   "outputs": [],
   "source": [
    "df.drop(\"Area\",axis=1,inplace=True)"
   ]
  },
  {
   "cell_type": "code",
   "execution_count": 10,
   "metadata": {},
   "outputs": [
    {
     "data": {
      "text/html": [
       "<div>\n",
       "<style scoped>\n",
       "    .dataframe tbody tr th:only-of-type {\n",
       "        vertical-align: middle;\n",
       "    }\n",
       "\n",
       "    .dataframe tbody tr th {\n",
       "        vertical-align: top;\n",
       "    }\n",
       "\n",
       "    .dataframe thead th {\n",
       "        text-align: right;\n",
       "    }\n",
       "</style>\n",
       "<table border=\"1\" class=\"dataframe\">\n",
       "  <thead>\n",
       "    <tr style=\"text-align: right;\">\n",
       "      <th></th>\n",
       "      <th>Unnamed: 0</th>\n",
       "      <th>Country</th>\n",
       "      <th>Continent</th>\n",
       "      <th>Rank</th>\n",
       "      <th>2020 Population</th>\n",
       "      <th>2019 Population</th>\n",
       "      <th>Growth Rate</th>\n",
       "      <th>Area (kmÂ²)</th>\n",
       "      <th>2018 Density</th>\n",
       "    </tr>\n",
       "  </thead>\n",
       "  <tbody>\n",
       "    <tr>\n",
       "      <th>0</th>\n",
       "      <td>1</td>\n",
       "      <td>China</td>\n",
       "      <td>Asia</td>\n",
       "      <td>1</td>\n",
       "      <td>1439323776</td>\n",
       "      <td>1433783686</td>\n",
       "      <td>0.39%</td>\n",
       "      <td>9706961.0</td>\n",
       "      <td>148/kmÂ²</td>\n",
       "    </tr>\n",
       "    <tr>\n",
       "      <th>1</th>\n",
       "      <td>2</td>\n",
       "      <td>United States</td>\n",
       "      <td>North America</td>\n",
       "      <td>3</td>\n",
       "      <td>331002651</td>\n",
       "      <td>329064917</td>\n",
       "      <td>0.59%</td>\n",
       "      <td>9372610.0</td>\n",
       "      <td>35/kmÂ²</td>\n",
       "    </tr>\n",
       "    <tr>\n",
       "      <th>2</th>\n",
       "      <td>3</td>\n",
       "      <td>Canada</td>\n",
       "      <td>North America</td>\n",
       "      <td>39</td>\n",
       "      <td>37742154</td>\n",
       "      <td>37411047</td>\n",
       "      <td>0.89%</td>\n",
       "      <td>9984670.0</td>\n",
       "      <td>4/kmÂ²</td>\n",
       "    </tr>\n",
       "    <tr>\n",
       "      <th>3</th>\n",
       "      <td>4</td>\n",
       "      <td>Brazil</td>\n",
       "      <td>South America</td>\n",
       "      <td>6</td>\n",
       "      <td>212559417</td>\n",
       "      <td>211049527</td>\n",
       "      <td>0.72%</td>\n",
       "      <td>8515767.0</td>\n",
       "      <td>25/kmÂ²</td>\n",
       "    </tr>\n",
       "    <tr>\n",
       "      <th>4</th>\n",
       "      <td>5</td>\n",
       "      <td>Australia</td>\n",
       "      <td>Australia</td>\n",
       "      <td>55</td>\n",
       "      <td>25499884</td>\n",
       "      <td>25203198</td>\n",
       "      <td>1.18%</td>\n",
       "      <td>7692024.0</td>\n",
       "      <td>3/kmÂ²</td>\n",
       "    </tr>\n",
       "  </tbody>\n",
       "</table>\n",
       "</div>"
      ],
      "text/plain": [
       "   Unnamed: 0        Country      Continent  Rank  2020 Population  \\\n",
       "0           1          China           Asia     1       1439323776   \n",
       "1           2  United States  North America     3        331002651   \n",
       "2           3         Canada  North America    39         37742154   \n",
       "3           4         Brazil  South America     6        212559417   \n",
       "4           5      Australia      Australia    55         25499884   \n",
       "\n",
       "   2019 Population Growth Rate  Area (kmÂ²) 2018 Density  \n",
       "0       1433783686       0.39%    9706961.0     148/kmÂ²  \n",
       "1        329064917       0.59%    9372610.0      35/kmÂ²  \n",
       "2         37411047       0.89%    9984670.0       4/kmÂ²  \n",
       "3        211049527       0.72%    8515767.0      25/kmÂ²  \n",
       "4         25203198       1.18%    7692024.0       3/kmÂ²  "
      ]
     },
     "execution_count": 10,
     "metadata": {},
     "output_type": "execute_result"
    }
   ],
   "source": [
    "df.head()"
   ]
  },
  {
   "cell_type": "markdown",
   "metadata": {},
   "source": [
    "---\n",
    "### Convert Population and Area Figures to Millions"
   ]
  },
  {
   "cell_type": "code",
   "execution_count": 11,
   "metadata": {},
   "outputs": [],
   "source": [
    "columns = ['2020 Population','2019 Population','Area (kmÂ²)']\n",
    "\n",
    "for col in columns:\n",
    "    df[col] = df[col].apply(lambda x: round(x/1000000,2))"
   ]
  },
  {
   "cell_type": "code",
   "execution_count": 12,
   "metadata": {},
   "outputs": [
    {
     "data": {
      "text/html": [
       "<div>\n",
       "<style scoped>\n",
       "    .dataframe tbody tr th:only-of-type {\n",
       "        vertical-align: middle;\n",
       "    }\n",
       "\n",
       "    .dataframe tbody tr th {\n",
       "        vertical-align: top;\n",
       "    }\n",
       "\n",
       "    .dataframe thead th {\n",
       "        text-align: right;\n",
       "    }\n",
       "</style>\n",
       "<table border=\"1\" class=\"dataframe\">\n",
       "  <thead>\n",
       "    <tr style=\"text-align: right;\">\n",
       "      <th></th>\n",
       "      <th>Unnamed: 0</th>\n",
       "      <th>Country</th>\n",
       "      <th>Continent</th>\n",
       "      <th>Rank</th>\n",
       "      <th>2020 Population</th>\n",
       "      <th>2019 Population</th>\n",
       "      <th>Growth Rate</th>\n",
       "      <th>Area (kmÂ²)</th>\n",
       "      <th>2018 Density</th>\n",
       "    </tr>\n",
       "  </thead>\n",
       "  <tbody>\n",
       "    <tr>\n",
       "      <th>0</th>\n",
       "      <td>1</td>\n",
       "      <td>China</td>\n",
       "      <td>Asia</td>\n",
       "      <td>1</td>\n",
       "      <td>1439.32</td>\n",
       "      <td>1433.78</td>\n",
       "      <td>0.39%</td>\n",
       "      <td>9.71</td>\n",
       "      <td>148/kmÂ²</td>\n",
       "    </tr>\n",
       "    <tr>\n",
       "      <th>1</th>\n",
       "      <td>2</td>\n",
       "      <td>United States</td>\n",
       "      <td>North America</td>\n",
       "      <td>3</td>\n",
       "      <td>331.00</td>\n",
       "      <td>329.06</td>\n",
       "      <td>0.59%</td>\n",
       "      <td>9.37</td>\n",
       "      <td>35/kmÂ²</td>\n",
       "    </tr>\n",
       "    <tr>\n",
       "      <th>2</th>\n",
       "      <td>3</td>\n",
       "      <td>Canada</td>\n",
       "      <td>North America</td>\n",
       "      <td>39</td>\n",
       "      <td>37.74</td>\n",
       "      <td>37.41</td>\n",
       "      <td>0.89%</td>\n",
       "      <td>9.98</td>\n",
       "      <td>4/kmÂ²</td>\n",
       "    </tr>\n",
       "    <tr>\n",
       "      <th>3</th>\n",
       "      <td>4</td>\n",
       "      <td>Brazil</td>\n",
       "      <td>South America</td>\n",
       "      <td>6</td>\n",
       "      <td>212.56</td>\n",
       "      <td>211.05</td>\n",
       "      <td>0.72%</td>\n",
       "      <td>8.52</td>\n",
       "      <td>25/kmÂ²</td>\n",
       "    </tr>\n",
       "    <tr>\n",
       "      <th>4</th>\n",
       "      <td>5</td>\n",
       "      <td>Australia</td>\n",
       "      <td>Australia</td>\n",
       "      <td>55</td>\n",
       "      <td>25.50</td>\n",
       "      <td>25.20</td>\n",
       "      <td>1.18%</td>\n",
       "      <td>7.69</td>\n",
       "      <td>3/kmÂ²</td>\n",
       "    </tr>\n",
       "  </tbody>\n",
       "</table>\n",
       "</div>"
      ],
      "text/plain": [
       "   Unnamed: 0        Country      Continent  Rank  2020 Population  \\\n",
       "0           1          China           Asia     1          1439.32   \n",
       "1           2  United States  North America     3           331.00   \n",
       "2           3         Canada  North America    39            37.74   \n",
       "3           4         Brazil  South America     6           212.56   \n",
       "4           5      Australia      Australia    55            25.50   \n",
       "\n",
       "   2019 Population Growth Rate  Area (kmÂ²) 2018 Density  \n",
       "0          1433.78       0.39%         9.71     148/kmÂ²  \n",
       "1           329.06       0.59%         9.37      35/kmÂ²  \n",
       "2            37.41       0.89%         9.98       4/kmÂ²  \n",
       "3           211.05       0.72%         8.52      25/kmÂ²  \n",
       "4            25.20       1.18%         7.69       3/kmÂ²  "
      ]
     },
     "execution_count": 12,
     "metadata": {},
     "output_type": "execute_result"
    }
   ],
   "source": [
    "df.head()"
   ]
  },
  {
   "cell_type": "markdown",
   "metadata": {},
   "source": [
    "---\n",
    "### Share of World Population\n",
    "Calculate Each Country Share of World Population"
   ]
  },
  {
   "cell_type": "code",
   "execution_count": 13,
   "metadata": {},
   "outputs": [
    {
     "data": {
      "text/plain": [
       "'7.79426 Billion is the current world population'"
      ]
     },
     "execution_count": 13,
     "metadata": {},
     "output_type": "execute_result"
    }
   ],
   "source": [
    "world_population = df[\"2020 Population\"].sum()\n",
    "f'{world_population/1000} Billion is the current world population'"
   ]
  },
  {
   "cell_type": "code",
   "execution_count": 14,
   "metadata": {},
   "outputs": [],
   "source": [
    "df[\"Population Share %\"] = df[\"2020 Population\"].apply(lambda x: round((x/world_population)*100,1))"
   ]
  },
  {
   "cell_type": "code",
   "execution_count": 15,
   "metadata": {},
   "outputs": [
    {
     "data": {
      "text/html": [
       "<div>\n",
       "<style scoped>\n",
       "    .dataframe tbody tr th:only-of-type {\n",
       "        vertical-align: middle;\n",
       "    }\n",
       "\n",
       "    .dataframe tbody tr th {\n",
       "        vertical-align: top;\n",
       "    }\n",
       "\n",
       "    .dataframe thead th {\n",
       "        text-align: right;\n",
       "    }\n",
       "</style>\n",
       "<table border=\"1\" class=\"dataframe\">\n",
       "  <thead>\n",
       "    <tr style=\"text-align: right;\">\n",
       "      <th></th>\n",
       "      <th>Unnamed: 0</th>\n",
       "      <th>Country</th>\n",
       "      <th>Continent</th>\n",
       "      <th>Rank</th>\n",
       "      <th>2020 Population</th>\n",
       "      <th>2019 Population</th>\n",
       "      <th>Growth Rate</th>\n",
       "      <th>Area (kmÂ²)</th>\n",
       "      <th>2018 Density</th>\n",
       "      <th>Population Share %</th>\n",
       "    </tr>\n",
       "  </thead>\n",
       "  <tbody>\n",
       "    <tr>\n",
       "      <th>0</th>\n",
       "      <td>1</td>\n",
       "      <td>China</td>\n",
       "      <td>Asia</td>\n",
       "      <td>1</td>\n",
       "      <td>1439.32</td>\n",
       "      <td>1433.78</td>\n",
       "      <td>0.39%</td>\n",
       "      <td>9.71</td>\n",
       "      <td>148/kmÂ²</td>\n",
       "      <td>18.5</td>\n",
       "    </tr>\n",
       "    <tr>\n",
       "      <th>1</th>\n",
       "      <td>2</td>\n",
       "      <td>United States</td>\n",
       "      <td>North America</td>\n",
       "      <td>3</td>\n",
       "      <td>331.00</td>\n",
       "      <td>329.06</td>\n",
       "      <td>0.59%</td>\n",
       "      <td>9.37</td>\n",
       "      <td>35/kmÂ²</td>\n",
       "      <td>4.2</td>\n",
       "    </tr>\n",
       "    <tr>\n",
       "      <th>2</th>\n",
       "      <td>3</td>\n",
       "      <td>Canada</td>\n",
       "      <td>North America</td>\n",
       "      <td>39</td>\n",
       "      <td>37.74</td>\n",
       "      <td>37.41</td>\n",
       "      <td>0.89%</td>\n",
       "      <td>9.98</td>\n",
       "      <td>4/kmÂ²</td>\n",
       "      <td>0.5</td>\n",
       "    </tr>\n",
       "    <tr>\n",
       "      <th>3</th>\n",
       "      <td>4</td>\n",
       "      <td>Brazil</td>\n",
       "      <td>South America</td>\n",
       "      <td>6</td>\n",
       "      <td>212.56</td>\n",
       "      <td>211.05</td>\n",
       "      <td>0.72%</td>\n",
       "      <td>8.52</td>\n",
       "      <td>25/kmÂ²</td>\n",
       "      <td>2.7</td>\n",
       "    </tr>\n",
       "    <tr>\n",
       "      <th>4</th>\n",
       "      <td>5</td>\n",
       "      <td>Australia</td>\n",
       "      <td>Australia</td>\n",
       "      <td>55</td>\n",
       "      <td>25.50</td>\n",
       "      <td>25.20</td>\n",
       "      <td>1.18%</td>\n",
       "      <td>7.69</td>\n",
       "      <td>3/kmÂ²</td>\n",
       "      <td>0.3</td>\n",
       "    </tr>\n",
       "  </tbody>\n",
       "</table>\n",
       "</div>"
      ],
      "text/plain": [
       "   Unnamed: 0        Country      Continent  Rank  2020 Population  \\\n",
       "0           1          China           Asia     1          1439.32   \n",
       "1           2  United States  North America     3           331.00   \n",
       "2           3         Canada  North America    39            37.74   \n",
       "3           4         Brazil  South America     6           212.56   \n",
       "4           5      Australia      Australia    55            25.50   \n",
       "\n",
       "   2019 Population Growth Rate  Area (kmÂ²) 2018 Density  Population Share %  \n",
       "0          1433.78       0.39%         9.71     148/kmÂ²                18.5  \n",
       "1           329.06       0.59%         9.37      35/kmÂ²                 4.2  \n",
       "2            37.41       0.89%         9.98       4/kmÂ²                 0.5  \n",
       "3           211.05       0.72%         8.52      25/kmÂ²                 2.7  \n",
       "4            25.20       1.18%         7.69       3/kmÂ²                 0.3  "
      ]
     },
     "execution_count": 15,
     "metadata": {},
     "output_type": "execute_result"
    }
   ],
   "source": [
    "df.head()"
   ]
  },
  {
   "cell_type": "markdown",
   "metadata": {},
   "source": [
    "---\n",
    "### Ranks Countries by Population Size, Area and Population Density\n",
    "Countries are already ranked by Population. The population density by sq.km is not a numeric column.\n",
    "\n",
    "* Rename **Rank** Column to Rank (Population)\n",
    "* Create a New Column for Rank (Area)\n",
    "* Create a Column for Population Density\n",
    "* Create a New Column for Rank (Density)"
   ]
  },
  {
   "cell_type": "code",
   "execution_count": 16,
   "metadata": {},
   "outputs": [],
   "source": [
    "df.rename(columns={'Rank':\"Rank (Population)\"},inplace=True)"
   ]
  },
  {
   "cell_type": "code",
   "execution_count": 17,
   "metadata": {},
   "outputs": [],
   "source": [
    "df[\"Rank (Area)\"] = df['Area (kmÂ²)'].rank(method='max',ascending=False)"
   ]
  },
  {
   "cell_type": "code",
   "execution_count": 18,
   "metadata": {},
   "outputs": [],
   "source": [
    "df[\"Density (kmÂ²)\"] = df.apply(lambda x: population_density(x[\"2020 Population\"],x[\"Area (kmÂ²)\"]),axis=1)"
   ]
  },
  {
   "cell_type": "code",
   "execution_count": 19,
   "metadata": {},
   "outputs": [],
   "source": [
    "df[\"Rank (Density)\"] = df['Density (kmÂ²)'].rank(method='max',ascending=False)"
   ]
  },
  {
   "cell_type": "code",
   "execution_count": 20,
   "metadata": {},
   "outputs": [],
   "source": [
    "df.drop(\"2018 Density\",axis=1,inplace=True)"
   ]
  },
  {
   "cell_type": "code",
   "execution_count": 21,
   "metadata": {},
   "outputs": [
    {
     "data": {
      "text/html": [
       "<div>\n",
       "<style scoped>\n",
       "    .dataframe tbody tr th:only-of-type {\n",
       "        vertical-align: middle;\n",
       "    }\n",
       "\n",
       "    .dataframe tbody tr th {\n",
       "        vertical-align: top;\n",
       "    }\n",
       "\n",
       "    .dataframe thead th {\n",
       "        text-align: right;\n",
       "    }\n",
       "</style>\n",
       "<table border=\"1\" class=\"dataframe\">\n",
       "  <thead>\n",
       "    <tr style=\"text-align: right;\">\n",
       "      <th></th>\n",
       "      <th>Unnamed: 0</th>\n",
       "      <th>Country</th>\n",
       "      <th>Continent</th>\n",
       "      <th>Rank (Population)</th>\n",
       "      <th>2020 Population</th>\n",
       "      <th>2019 Population</th>\n",
       "      <th>Growth Rate</th>\n",
       "      <th>Area (kmÂ²)</th>\n",
       "      <th>Population Share %</th>\n",
       "      <th>Rank (Area)</th>\n",
       "      <th>Density (kmÂ²)</th>\n",
       "      <th>Rank (Density)</th>\n",
       "    </tr>\n",
       "  </thead>\n",
       "  <tbody>\n",
       "    <tr>\n",
       "      <th>0</th>\n",
       "      <td>1</td>\n",
       "      <td>China</td>\n",
       "      <td>Asia</td>\n",
       "      <td>1</td>\n",
       "      <td>1439.32</td>\n",
       "      <td>1433.78</td>\n",
       "      <td>0.39%</td>\n",
       "      <td>9.71</td>\n",
       "      <td>18.5</td>\n",
       "      <td>3.0</td>\n",
       "      <td>148</td>\n",
       "      <td>35.0</td>\n",
       "    </tr>\n",
       "    <tr>\n",
       "      <th>1</th>\n",
       "      <td>2</td>\n",
       "      <td>United States</td>\n",
       "      <td>North America</td>\n",
       "      <td>3</td>\n",
       "      <td>331.00</td>\n",
       "      <td>329.06</td>\n",
       "      <td>0.59%</td>\n",
       "      <td>9.37</td>\n",
       "      <td>4.2</td>\n",
       "      <td>4.0</td>\n",
       "      <td>35</td>\n",
       "      <td>118.0</td>\n",
       "    </tr>\n",
       "    <tr>\n",
       "      <th>2</th>\n",
       "      <td>3</td>\n",
       "      <td>Canada</td>\n",
       "      <td>North America</td>\n",
       "      <td>39</td>\n",
       "      <td>37.74</td>\n",
       "      <td>37.41</td>\n",
       "      <td>0.89%</td>\n",
       "      <td>9.98</td>\n",
       "      <td>0.5</td>\n",
       "      <td>2.0</td>\n",
       "      <td>4</td>\n",
       "      <td>165.0</td>\n",
       "    </tr>\n",
       "    <tr>\n",
       "      <th>3</th>\n",
       "      <td>4</td>\n",
       "      <td>Brazil</td>\n",
       "      <td>South America</td>\n",
       "      <td>6</td>\n",
       "      <td>212.56</td>\n",
       "      <td>211.05</td>\n",
       "      <td>0.72%</td>\n",
       "      <td>8.52</td>\n",
       "      <td>2.7</td>\n",
       "      <td>5.0</td>\n",
       "      <td>25</td>\n",
       "      <td>131.0</td>\n",
       "    </tr>\n",
       "    <tr>\n",
       "      <th>4</th>\n",
       "      <td>5</td>\n",
       "      <td>Australia</td>\n",
       "      <td>Australia</td>\n",
       "      <td>55</td>\n",
       "      <td>25.50</td>\n",
       "      <td>25.20</td>\n",
       "      <td>1.18%</td>\n",
       "      <td>7.69</td>\n",
       "      <td>0.3</td>\n",
       "      <td>6.0</td>\n",
       "      <td>3</td>\n",
       "      <td>168.0</td>\n",
       "    </tr>\n",
       "  </tbody>\n",
       "</table>\n",
       "</div>"
      ],
      "text/plain": [
       "   Unnamed: 0        Country      Continent  Rank (Population)  \\\n",
       "0           1          China           Asia                  1   \n",
       "1           2  United States  North America                  3   \n",
       "2           3         Canada  North America                 39   \n",
       "3           4         Brazil  South America                  6   \n",
       "4           5      Australia      Australia                 55   \n",
       "\n",
       "   2020 Population  2019 Population Growth Rate  Area (kmÂ²)  \\\n",
       "0          1439.32          1433.78       0.39%         9.71   \n",
       "1           331.00           329.06       0.59%         9.37   \n",
       "2            37.74            37.41       0.89%         9.98   \n",
       "3           212.56           211.05       0.72%         8.52   \n",
       "4            25.50            25.20       1.18%         7.69   \n",
       "\n",
       "   Population Share %  Rank (Area)  Density (kmÂ²)  Rank (Density)  \n",
       "0                18.5          3.0             148            35.0  \n",
       "1                 4.2          4.0              35           118.0  \n",
       "2                 0.5          2.0               4           165.0  \n",
       "3                 2.7          5.0              25           131.0  \n",
       "4                 0.3          6.0               3           168.0  "
      ]
     },
     "execution_count": 21,
     "metadata": {},
     "output_type": "execute_result"
    }
   ],
   "source": [
    "df.head()"
   ]
  },
  {
   "cell_type": "markdown",
   "metadata": {},
   "source": [
    "---\n",
    "### Countries with Declining Population"
   ]
  },
  {
   "cell_type": "code",
   "execution_count": 22,
   "metadata": {},
   "outputs": [],
   "source": [
    "df[\"Growth Rate\"] = df.apply(lambda x: growth_rate(x[\"2019 Population\"],x[\"2020 Population\"]),axis=1)"
   ]
  },
  {
   "cell_type": "code",
   "execution_count": 23,
   "metadata": {},
   "outputs": [
    {
     "data": {
      "text/html": [
       "<div>\n",
       "<style scoped>\n",
       "    .dataframe tbody tr th:only-of-type {\n",
       "        vertical-align: middle;\n",
       "    }\n",
       "\n",
       "    .dataframe tbody tr th {\n",
       "        vertical-align: top;\n",
       "    }\n",
       "\n",
       "    .dataframe thead th {\n",
       "        text-align: right;\n",
       "    }\n",
       "</style>\n",
       "<table border=\"1\" class=\"dataframe\">\n",
       "  <thead>\n",
       "    <tr style=\"text-align: right;\">\n",
       "      <th></th>\n",
       "      <th>Country</th>\n",
       "      <th>Growth Rate</th>\n",
       "    </tr>\n",
       "  </thead>\n",
       "  <tbody>\n",
       "    <tr>\n",
       "      <th>167</th>\n",
       "      <td>Puerto Rico</td>\n",
       "      <td>-2.45</td>\n",
       "    </tr>\n",
       "    <tr>\n",
       "      <th>122</th>\n",
       "      <td>Lithuania</td>\n",
       "      <td>-1.47</td>\n",
       "    </tr>\n",
       "    <tr>\n",
       "      <th>123</th>\n",
       "      <td>Latvia</td>\n",
       "      <td>-1.06</td>\n",
       "    </tr>\n",
       "    <tr>\n",
       "      <th>101</th>\n",
       "      <td>Bulgaria</td>\n",
       "      <td>-0.72</td>\n",
       "    </tr>\n",
       "    <tr>\n",
       "      <th>80</th>\n",
       "      <td>Romania</td>\n",
       "      <td>-0.62</td>\n",
       "    </tr>\n",
       "    <tr>\n",
       "      <th>126</th>\n",
       "      <td>Bosnia and Herzegovina</td>\n",
       "      <td>-0.61</td>\n",
       "    </tr>\n",
       "    <tr>\n",
       "      <th>44</th>\n",
       "      <td>Ukraine</td>\n",
       "      <td>-0.59</td>\n",
       "    </tr>\n",
       "    <tr>\n",
       "      <th>124</th>\n",
       "      <td>Croatia</td>\n",
       "      <td>-0.49</td>\n",
       "    </tr>\n",
       "    <tr>\n",
       "      <th>94</th>\n",
       "      <td>Greece</td>\n",
       "      <td>-0.48</td>\n",
       "    </tr>\n",
       "    <tr>\n",
       "      <th>163</th>\n",
       "      <td>Lebanon</td>\n",
       "      <td>-0.44</td>\n",
       "    </tr>\n",
       "  </tbody>\n",
       "</table>\n",
       "</div>"
      ],
      "text/plain": [
       "                    Country  Growth Rate\n",
       "167             Puerto Rico        -2.45\n",
       "122               Lithuania        -1.47\n",
       "123                  Latvia        -1.06\n",
       "101                Bulgaria        -0.72\n",
       "80                  Romania        -0.62\n",
       "126  Bosnia and Herzegovina        -0.61\n",
       "44                  Ukraine        -0.59\n",
       "124                 Croatia        -0.49\n",
       "94                   Greece        -0.48\n",
       "163                 Lebanon        -0.44"
      ]
     },
     "execution_count": 23,
     "metadata": {},
     "output_type": "execute_result"
    }
   ],
   "source": [
    "declining_population = df[df[\"Growth Rate\"] < 0].sort_values(\"Growth Rate\")\n",
    "declining_population[[\"Country\",\"Growth Rate\"]].head(10)"
   ]
  },
  {
   "cell_type": "code",
   "execution_count": 24,
   "metadata": {},
   "outputs": [],
   "source": [
    "continent = declining_population.groupby(by=\"Continent\").size().sort_values(ascending=False)"
   ]
  },
  {
   "cell_type": "code",
   "execution_count": 25,
   "metadata": {},
   "outputs": [
    {
     "data": {
      "text/plain": [
       "\"Europe' is the leading continent with most countries (14) having a declining population\""
      ]
     },
     "execution_count": 25,
     "metadata": {},
     "output_type": "execute_result"
    }
   ],
   "source": [
    "f'''{continent.index[0]}' is the leading continent with most countries ({continent[0]}) having a declining population'''"
   ]
  },
  {
   "cell_type": "markdown",
   "metadata": {},
   "source": [
    "### Top 10 Densely Populated Countries"
   ]
  },
  {
   "cell_type": "code",
   "execution_count": 26,
   "metadata": {},
   "outputs": [
    {
     "data": {
      "text/html": [
       "<div>\n",
       "<style scoped>\n",
       "    .dataframe tbody tr th:only-of-type {\n",
       "        vertical-align: middle;\n",
       "    }\n",
       "\n",
       "    .dataframe tbody tr th {\n",
       "        vertical-align: top;\n",
       "    }\n",
       "\n",
       "    .dataframe thead th {\n",
       "        text-align: right;\n",
       "    }\n",
       "</style>\n",
       "<table border=\"1\" class=\"dataframe\">\n",
       "  <thead>\n",
       "    <tr style=\"text-align: right;\">\n",
       "      <th></th>\n",
       "      <th>Country</th>\n",
       "      <th>Continent</th>\n",
       "      <th>Density (kmÂ²)</th>\n",
       "    </tr>\n",
       "  </thead>\n",
       "  <tbody>\n",
       "    <tr>\n",
       "      <th>95</th>\n",
       "      <td>Bangladesh</td>\n",
       "      <td>Asia</td>\n",
       "      <td>1098</td>\n",
       "    </tr>\n",
       "    <tr>\n",
       "      <th>163</th>\n",
       "      <td>Lebanon</td>\n",
       "      <td>Asia</td>\n",
       "      <td>683</td>\n",
       "    </tr>\n",
       "    <tr>\n",
       "      <th>136</th>\n",
       "      <td>Taiwan</td>\n",
       "      <td>Asia</td>\n",
       "      <td>596</td>\n",
       "    </tr>\n",
       "    <tr>\n",
       "      <th>105</th>\n",
       "      <td>South Korea</td>\n",
       "      <td>Asia</td>\n",
       "      <td>513</td>\n",
       "    </tr>\n",
       "    <tr>\n",
       "      <th>168</th>\n",
       "      <td>Palestine</td>\n",
       "      <td>Asia</td>\n",
       "      <td>510</td>\n",
       "    </tr>\n",
       "    <tr>\n",
       "      <th>151</th>\n",
       "      <td>Israel</td>\n",
       "      <td>Asia</td>\n",
       "      <td>433</td>\n",
       "    </tr>\n",
       "    <tr>\n",
       "      <th>147</th>\n",
       "      <td>Rwanda</td>\n",
       "      <td>Africa</td>\n",
       "      <td>432</td>\n",
       "    </tr>\n",
       "    <tr>\n",
       "      <th>134</th>\n",
       "      <td>Netherlands</td>\n",
       "      <td>Europe</td>\n",
       "      <td>428</td>\n",
       "    </tr>\n",
       "    <tr>\n",
       "      <th>5</th>\n",
       "      <td>India</td>\n",
       "      <td>Asia</td>\n",
       "      <td>419</td>\n",
       "    </tr>\n",
       "    <tr>\n",
       "      <th>145</th>\n",
       "      <td>Burundi</td>\n",
       "      <td>Africa</td>\n",
       "      <td>396</td>\n",
       "    </tr>\n",
       "  </tbody>\n",
       "</table>\n",
       "</div>"
      ],
      "text/plain": [
       "         Country Continent  Density (kmÂ²)\n",
       "95    Bangladesh      Asia            1098\n",
       "163      Lebanon      Asia             683\n",
       "136       Taiwan      Asia             596\n",
       "105  South Korea      Asia             513\n",
       "168    Palestine      Asia             510\n",
       "151       Israel      Asia             433\n",
       "147       Rwanda    Africa             432\n",
       "134  Netherlands    Europe             428\n",
       "5          India      Asia             419\n",
       "145      Burundi    Africa             396"
      ]
     },
     "execution_count": 26,
     "metadata": {},
     "output_type": "execute_result"
    }
   ],
   "source": [
    "dense_population = df[df[\"Rank (Density)\"] <= 10].sort_values(\"Rank (Density)\")\n",
    "dense_population[[\"Country\",\"Continent\",\"Density (kmÂ²)\"]]"
   ]
  },
  {
   "cell_type": "markdown",
   "metadata": {},
   "source": [
    "---\n",
    "## Estimate World Population in 2050\n",
    "\n",
    "We calculate population growth by looking at the change in population over time.\n",
    "Below is the formula for calculating population growth.<br/>\n",
    "<img src=\"https://d2jmvrsizmvf4x.cloudfront.net/XL08Gk3TQA2RxAtEWDLv_WorldPopOne550x474JPG.jpg\" width=\"40%\" height=\"40%\">"
   ]
  },
  {
   "cell_type": "code",
   "execution_count": 27,
   "metadata": {},
   "outputs": [
    {
     "data": {
      "text/plain": [
       "'7.71292 Billion was the total world population in the Previous Year'"
      ]
     },
     "execution_count": 27,
     "metadata": {},
     "output_type": "execute_result"
    }
   ],
   "source": [
    "world_population_2019 = df[\"2019 Population\"].sum()\n",
    "f'{world_population_2019/1000} Billion was the total world population in the Previous Year'"
   ]
  },
  {
   "cell_type": "code",
   "execution_count": 28,
   "metadata": {},
   "outputs": [
    {
     "data": {
      "text/plain": [
       "'1.04% is the current population growth rate'"
      ]
     },
     "execution_count": 28,
     "metadata": {},
     "output_type": "execute_result"
    }
   ],
   "source": [
    "population_growth_rate = (1 - (world_population_2019/world_population)) * 100\n",
    "f'{round(population_growth_rate,2)}% is the current population growth rate'"
   ]
  },
  {
   "cell_type": "code",
   "execution_count": 29,
   "metadata": {},
   "outputs": [
    {
     "data": {
      "text/plain": [
       "'10.66 Billion is the Estimated Population by 2050'"
      ]
     },
     "execution_count": 29,
     "metadata": {},
     "output_type": "execute_result"
    }
   ],
   "source": [
    "population_estimate_2050 = round(world_population * (math.exp ((population_growth_rate/100) * 30)))\n",
    "f'{population_estimate_2050/1000} Billion is the Estimated Population by 2050'  "
   ]
  },
  {
   "cell_type": "markdown",
   "metadata": {},
   "source": [
    "### Grouped by Continent"
   ]
  },
  {
   "cell_type": "code",
   "execution_count": 30,
   "metadata": {},
   "outputs": [
    {
     "data": {
      "text/html": [
       "<div>\n",
       "<style scoped>\n",
       "    .dataframe tbody tr th:only-of-type {\n",
       "        vertical-align: middle;\n",
       "    }\n",
       "\n",
       "    .dataframe tbody tr th {\n",
       "        vertical-align: top;\n",
       "    }\n",
       "\n",
       "    .dataframe thead th {\n",
       "        text-align: right;\n",
       "    }\n",
       "</style>\n",
       "<table border=\"1\" class=\"dataframe\">\n",
       "  <thead>\n",
       "    <tr style=\"text-align: right;\">\n",
       "      <th></th>\n",
       "      <th>Continent</th>\n",
       "      <th>2020 Population</th>\n",
       "      <th>2019 Population</th>\n",
       "      <th>Area (kmÂ²)</th>\n",
       "      <th>Growth Rate</th>\n",
       "      <th>Density (kmÂ²)</th>\n",
       "      <th>Rank (Population)</th>\n",
       "      <th>Rank (Area)</th>\n",
       "      <th>Rank (Density)</th>\n",
       "    </tr>\n",
       "  </thead>\n",
       "  <tbody>\n",
       "    <tr>\n",
       "      <th>0</th>\n",
       "      <td>Africa</td>\n",
       "      <td>1340.59</td>\n",
       "      <td>1308.09</td>\n",
       "      <td>30.32</td>\n",
       "      <td>2.42</td>\n",
       "      <td>44</td>\n",
       "      <td>2.0</td>\n",
       "      <td>2.0</td>\n",
       "      <td>3.0</td>\n",
       "    </tr>\n",
       "    <tr>\n",
       "      <th>1</th>\n",
       "      <td>Asia</td>\n",
       "      <td>4787.00</td>\n",
       "      <td>4747.26</td>\n",
       "      <td>49.26</td>\n",
       "      <td>0.83</td>\n",
       "      <td>97</td>\n",
       "      <td>1.0</td>\n",
       "      <td>1.0</td>\n",
       "      <td>2.0</td>\n",
       "    </tr>\n",
       "    <tr>\n",
       "      <th>2</th>\n",
       "      <td>Australia</td>\n",
       "      <td>42.70</td>\n",
       "      <td>42.12</td>\n",
       "      <td>8.50</td>\n",
       "      <td>1.36</td>\n",
       "      <td>5</td>\n",
       "      <td>6.0</td>\n",
       "      <td>5.0</td>\n",
       "      <td>6.0</td>\n",
       "    </tr>\n",
       "    <tr>\n",
       "      <th>3</th>\n",
       "      <td>Europe</td>\n",
       "      <td>601.53</td>\n",
       "      <td>601.14</td>\n",
       "      <td>5.88</td>\n",
       "      <td>0.06</td>\n",
       "      <td>102</td>\n",
       "      <td>3.0</td>\n",
       "      <td>6.0</td>\n",
       "      <td>1.0</td>\n",
       "    </tr>\n",
       "    <tr>\n",
       "      <th>4</th>\n",
       "      <td>North America</td>\n",
       "      <td>591.68</td>\n",
       "      <td>587.13</td>\n",
       "      <td>24.23</td>\n",
       "      <td>0.77</td>\n",
       "      <td>24</td>\n",
       "      <td>4.0</td>\n",
       "      <td>3.0</td>\n",
       "      <td>5.0</td>\n",
       "    </tr>\n",
       "  </tbody>\n",
       "</table>\n",
       "</div>"
      ],
      "text/plain": [
       "       Continent  2020 Population  2019 Population  Area (kmÂ²)  Growth Rate  \\\n",
       "0         Africa          1340.59          1308.09        30.32         2.42   \n",
       "1           Asia          4787.00          4747.26        49.26         0.83   \n",
       "2      Australia            42.70            42.12         8.50         1.36   \n",
       "3         Europe           601.53           601.14         5.88         0.06   \n",
       "4  North America           591.68           587.13        24.23         0.77   \n",
       "\n",
       "   Density (kmÂ²)  Rank (Population)  Rank (Area)  Rank (Density)  \n",
       "0              44                2.0          2.0             3.0  \n",
       "1              97                1.0          1.0             2.0  \n",
       "2               5                6.0          5.0             6.0  \n",
       "3             102                3.0          6.0             1.0  \n",
       "4              24                4.0          3.0             5.0  "
      ]
     },
     "execution_count": 30,
     "metadata": {},
     "output_type": "execute_result"
    }
   ],
   "source": [
    "continent = df.groupby(by='Continent')['2020 Population', '2019 Population', 'Area (kmÂ²)'].sum().reset_index()\n",
    "continent[\"Growth Rate\"] = continent.apply(lambda x: growth_rate(x[\"2019 Population\"],x[\"2020 Population\"]),axis=1)\n",
    "continent[\"Density (kmÂ²)\"] = continent.apply(lambda x: population_density(x[\"2020 Population\"],x[\"Area (kmÂ²)\"]),axis=1)\n",
    "continent[\"Rank (Population)\"] = continent['2020 Population'].rank(method='max',ascending=False)\n",
    "continent[\"Rank (Area)\"] = continent['Area (kmÂ²)'].rank(method='max',ascending=False)\n",
    "continent[\"Rank (Density)\"] = continent['Density (kmÂ²)'].rank(method='max',ascending=False)\n",
    "continent.head()"
   ]
  },
  {
   "cell_type": "markdown",
   "metadata": {},
   "source": [
    "---\n",
    "### Data Export to Excel"
   ]
  },
  {
   "cell_type": "code",
   "execution_count": 31,
   "metadata": {},
   "outputs": [],
   "source": [
    "today = datetime.now().date() \n",
    "\n",
    "with pd.ExcelWriter(f'world_population_{today}.xlsx') as writer:  \n",
    "    df.to_excel(writer, sheet_name='World_Population')\n",
    "    declining_population.to_excel(writer, sheet_name='Declining Population')\n",
    "    dense_population.to_excel(writer, sheet_name='Top 10 - Population Density')\n",
    "    continent.to_excel(writer, sheet_name='Data by Continent')"
   ]
  },
  {
   "cell_type": "code",
   "execution_count": 67,
   "metadata": {},
   "outputs": [],
   "source": [
    "c = df.groupby(by=[\"Continent\",\"Country\"],group_keys=True)[\"2020 Population\"].sum()"
   ]
  },
  {
   "cell_type": "code",
   "execution_count": 72,
   "metadata": {},
   "outputs": [
    {
     "data": {
      "text/html": [
       "<div>\n",
       "<style scoped>\n",
       "    .dataframe tbody tr th:only-of-type {\n",
       "        vertical-align: middle;\n",
       "    }\n",
       "\n",
       "    .dataframe tbody tr th {\n",
       "        vertical-align: top;\n",
       "    }\n",
       "\n",
       "    .dataframe thead th {\n",
       "        text-align: right;\n",
       "    }\n",
       "</style>\n",
       "<table border=\"1\" class=\"dataframe\">\n",
       "  <thead>\n",
       "    <tr style=\"text-align: right;\">\n",
       "      <th></th>\n",
       "      <th>Continent</th>\n",
       "      <th>Country</th>\n",
       "      <th>2020 Population</th>\n",
       "    </tr>\n",
       "  </thead>\n",
       "  <tbody>\n",
       "    <tr>\n",
       "      <th>3</th>\n",
       "      <td>South America</td>\n",
       "      <td>Brazil</td>\n",
       "      <td>212.56</td>\n",
       "    </tr>\n",
       "    <tr>\n",
       "      <th>25</th>\n",
       "      <td>South America</td>\n",
       "      <td>Colombia</td>\n",
       "      <td>50.88</td>\n",
       "    </tr>\n",
       "    <tr>\n",
       "      <th>1</th>\n",
       "      <td>North America</td>\n",
       "      <td>United States</td>\n",
       "      <td>331.00</td>\n",
       "    </tr>\n",
       "    <tr>\n",
       "      <th>12</th>\n",
       "      <td>North America</td>\n",
       "      <td>Mexico</td>\n",
       "      <td>128.93</td>\n",
       "    </tr>\n",
       "    <tr>\n",
       "      <th>61</th>\n",
       "      <td>Europe</td>\n",
       "      <td>Germany</td>\n",
       "      <td>83.78</td>\n",
       "    </tr>\n",
       "    <tr>\n",
       "      <th>78</th>\n",
       "      <td>Europe</td>\n",
       "      <td>United Kingdom</td>\n",
       "      <td>67.89</td>\n",
       "    </tr>\n",
       "    <tr>\n",
       "      <th>4</th>\n",
       "      <td>Australia</td>\n",
       "      <td>Australia</td>\n",
       "      <td>25.50</td>\n",
       "    </tr>\n",
       "    <tr>\n",
       "      <th>53</th>\n",
       "      <td>Australia</td>\n",
       "      <td>Papua New Guinea</td>\n",
       "      <td>8.95</td>\n",
       "    </tr>\n",
       "    <tr>\n",
       "      <th>0</th>\n",
       "      <td>Asia</td>\n",
       "      <td>China</td>\n",
       "      <td>1439.32</td>\n",
       "    </tr>\n",
       "    <tr>\n",
       "      <th>5</th>\n",
       "      <td>Asia</td>\n",
       "      <td>India</td>\n",
       "      <td>1380.00</td>\n",
       "    </tr>\n",
       "    <tr>\n",
       "      <th>29</th>\n",
       "      <td>Africa</td>\n",
       "      <td>Nigeria</td>\n",
       "      <td>206.14</td>\n",
       "    </tr>\n",
       "    <tr>\n",
       "      <th>27</th>\n",
       "      <td>Africa</td>\n",
       "      <td>Ethiopia</td>\n",
       "      <td>114.96</td>\n",
       "    </tr>\n",
       "  </tbody>\n",
       "</table>\n",
       "</div>"
      ],
      "text/plain": [
       "        Continent           Country  2020 Population\n",
       "3   South America            Brazil           212.56\n",
       "25  South America          Colombia            50.88\n",
       "1   North America     United States           331.00\n",
       "12  North America            Mexico           128.93\n",
       "61         Europe           Germany            83.78\n",
       "78         Europe    United Kingdom            67.89\n",
       "4       Australia         Australia            25.50\n",
       "53      Australia  Papua New Guinea             8.95\n",
       "0            Asia             China          1439.32\n",
       "5            Asia             India          1380.00\n",
       "29         Africa           Nigeria           206.14\n",
       "27         Africa          Ethiopia           114.96"
      ]
     },
     "execution_count": 72,
     "metadata": {},
     "output_type": "execute_result"
    }
   ],
   "source": [
    "df[[\"Continent\",\"Country\",\"2020 Population\"]].sort_values(['Continent','2020 Population'],ascending=False).groupby('Continent').head(2)"
   ]
  },
  {
   "cell_type": "markdown",
   "metadata": {},
   "source": [
    "## Clustered Bar Chart"
   ]
  },
  {
   "cell_type": "code",
   "execution_count": null,
   "metadata": {},
   "outputs": [],
   "source": [
    "import matplotlib.pyplot as plt\n",
    "import matplotlib.style as mplstyle\n",
    "\n",
    "plt.figure(figsize=(8,3)) \n",
    "plt.suptitle('Top 5 Countries by Population', fontsize=12)\n",
    "\n",
    "with mplstyle.context('classic'):\n",
    "    ax = plt.subplot()\n",
    "    \n",
    "    ax.barh(df.Countries,df.Population,\n",
    "           label=\"Population (in millions)\",\n",
    "            height = .6,\n",
    "          color=\"c\",\n",
    "           capstyle=\"round\")\n",
    "    \n",
    "    ax.legend(loc=\"best\")"
   ]
  }
 ],
 "metadata": {
  "kernelspec": {
   "display_name": "Python 3",
   "language": "python",
   "name": "python3"
  },
  "language_info": {
   "codemirror_mode": {
    "name": "ipython",
    "version": 3
   },
   "file_extension": ".py",
   "mimetype": "text/x-python",
   "name": "python",
   "nbconvert_exporter": "python",
   "pygments_lexer": "ipython3",
   "version": "3.7.3"
  }
 },
 "nbformat": 4,
 "nbformat_minor": 4
}
