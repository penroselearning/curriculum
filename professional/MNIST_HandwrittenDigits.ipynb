{
 "cells": [
  {
   "cell_type": "markdown",
   "metadata": {},
   "source": [
    "## MNIST Handwritten Digit Recognition from Images using PyTorch\n",
    "\n",
    "This notebook explores how we can build a simple convolutional neural network in PyTorch and train it to recognize handwritten digits using the MNIST dataset.\n",
    "\n",
    "<a href=\"https://pytorch.org/vision/stable/datasets.html#mnist\"/>Link to the DataSet</a>\n",
    "\n",
    "---"
   ]
  },
  {
   "cell_type": "markdown",
   "metadata": {},
   "source": [
    "### Import Libraries"
   ]
  },
  {
   "cell_type": "code",
   "execution_count": 3,
   "metadata": {},
   "outputs": [],
   "source": [
    "import torch\n",
    "import torchvision\n",
    "\n",
    "from torchvision.datasets import MNIST\n",
    "from torchvision import transforms\n",
    "\n",
    "from torch.utils.data.dataloader import DataLoader\n",
    "\n",
    "import numpy as np\n",
    "import matplotlib.pyplot as plt\n",
    "import pandas as pd\n",
    "\n",
    "import torch.nn as nn\n",
    "import torch.nn.functional as func\n",
    "import torch.optim as optim"
   ]
  },
  {
   "cell_type": "markdown",
   "metadata": {},
   "source": [
    "### Import Data\n",
    "Download the Raw Handwritten images locally and convert them into Tensors"
   ]
  },
  {
   "cell_type": "code",
   "execution_count": 4,
   "metadata": {},
   "outputs": [],
   "source": [
    "datatensor = MNIST(root='data/',train = True, download=False,transform = transforms.ToTensor())\n",
    "testtensor = MNIST(root='data/',train = False, download=False,transform = transforms.ToTensor())"
   ]
  },
  {
   "cell_type": "markdown",
   "metadata": {},
   "source": [
    "### Data Splitting\n",
    "#### Split Data into Training and Validation Set"
   ]
  },
  {
   "cell_type": "code",
   "execution_count": 5,
   "metadata": {},
   "outputs": [],
   "source": [
    "train_set, val_set = torch.utils.data.random_split(datatensor, [50000, 10000])"
   ]
  },
  {
   "cell_type": "code",
   "execution_count": 6,
   "metadata": {},
   "outputs": [],
   "source": [
    "# random_seed = 1\n",
    "# torch.backends.cudnn.enabled = False\n",
    "# torch.manual_seed(random_seed)"
   ]
  },
  {
   "cell_type": "markdown",
   "metadata": {},
   "source": [
    "#### Load Data into Batches to speed up learning"
   ]
  },
  {
   "cell_type": "code",
   "execution_count": 7,
   "metadata": {},
   "outputs": [],
   "source": [
    "batch_size_train = 100\n",
    "batch_size_test = 100\n",
    "\n",
    "train_loader = DataLoader(train_set,batch_size_train) \n",
    "val_loader = DataLoader(val_set,batch_size_test)"
   ]
  },
  {
   "cell_type": "markdown",
   "metadata": {},
   "source": [
    "### Build Convolutional Neural Network"
   ]
  },
  {
   "cell_type": "markdown",
   "metadata": {},
   "source": [
    "#### Build a custom class with multiple layers using the nn Module\n",
    "The below example makes use of 2 Convolutional Layers. The resulting output is reshaped and passed through a Linear Layer."
   ]
  },
  {
   "cell_type": "code",
   "execution_count": 8,
   "metadata": {},
   "outputs": [],
   "source": [
    "class MnistModel(nn.Module):\n",
    "    def __init__(self):\n",
    "        super(MnistModel, self).__init__()\n",
    "        \n",
    "        self.conv1 = nn.Conv2d(1, 10, kernel_size=5)\n",
    "        self.pool = nn.MaxPool2d(kernel_size=(2,2))\n",
    "        self.conv2 = nn.Conv2d(10, 20, kernel_size=5)\n",
    "        \n",
    "        self.fc1 = nn.Linear(320, 50)\n",
    "        \n",
    "    def forward(self, x):\n",
    "        x = func.relu(self.conv1(x))\n",
    "        x = func.relu(self.pool(x))\n",
    "        \n",
    "        x = func.relu(self.conv2(x))\n",
    "        x = func.relu(self.pool(x))\n",
    "        \n",
    "        x = x.view(-1, 320)\n",
    "        x = func.relu(self.fc1(x))\n",
    "        \n",
    "        return x"
   ]
  },
  {
   "cell_type": "markdown",
   "metadata": {},
   "source": [
    "#### Build the Model"
   ]
  },
  {
   "cell_type": "code",
   "execution_count": 9,
   "metadata": {},
   "outputs": [],
   "source": [
    "model = MnistModel()"
   ]
  },
  {
   "cell_type": "markdown",
   "metadata": {},
   "source": [
    "#### Displays the Total Trainable Parameters"
   ]
  },
  {
   "cell_type": "code",
   "execution_count": 10,
   "metadata": {},
   "outputs": [
    {
     "name": "stdout",
     "output_type": "stream",
     "text": [
      "+--------------+------------+\n",
      "|   Modules    | Parameters |\n",
      "+--------------+------------+\n",
      "| conv1.weight |    250     |\n",
      "|  conv1.bias  |     10     |\n",
      "| conv2.weight |    5000    |\n",
      "|  conv2.bias  |     20     |\n",
      "|  fc1.weight  |   16000    |\n",
      "|   fc1.bias   |     50     |\n",
      "+--------------+------------+\n",
      "Total Trainable Params: 21330\n"
     ]
    },
    {
     "data": {
      "text/plain": [
       "21330"
      ]
     },
     "execution_count": 10,
     "metadata": {},
     "output_type": "execute_result"
    }
   ],
   "source": [
    "from prettytable import PrettyTable\n",
    "\n",
    "def count_parameters(model):\n",
    "    table = PrettyTable([\"Modules\", \"Parameters\"])\n",
    "    total_params = 0\n",
    "    for name, parameter in model.named_parameters():\n",
    "        if not parameter.requires_grad: continue\n",
    "        param = parameter.numel()\n",
    "        table.add_row([name, param])\n",
    "        total_params+=param\n",
    "    print(table)\n",
    "    print(f\"Total Trainable Params: {total_params}\")\n",
    "    return total_params\n",
    "    \n",
    "count_parameters(model)"
   ]
  },
  {
   "cell_type": "markdown",
   "metadata": {},
   "source": [
    "### Gradient Descent using Stochastic Gradient Descent"
   ]
  },
  {
   "cell_type": "code",
   "execution_count": 11,
   "metadata": {},
   "outputs": [],
   "source": [
    "optimizer = optim.SGD(model.parameters(), lr=0.1, momentum = 0.5)"
   ]
  },
  {
   "cell_type": "markdown",
   "metadata": {},
   "source": [
    "### Cross Entropy for Calculating Loss"
   ]
  },
  {
   "cell_type": "code",
   "execution_count": 12,
   "metadata": {},
   "outputs": [],
   "source": [
    "loss = nn.CrossEntropyLoss()"
   ]
  },
  {
   "cell_type": "markdown",
   "metadata": {},
   "source": [
    "### Preparation for Tracing Logs\n",
    "Python Lists for recording logs at every 10 intervals"
   ]
  },
  {
   "cell_type": "code",
   "execution_count": 13,
   "metadata": {},
   "outputs": [],
   "source": [
    "train_loss = list()\n",
    "train_accuracy = list()\n",
    "train_counter = list()\n",
    "\n",
    "test_loss = list()\n",
    "test_accuracy = list()"
   ]
  },
  {
   "cell_type": "markdown",
   "metadata": {},
   "source": [
    "### Define Function for Learning\n",
    "#### Function for Learning Training Data\n",
    "* Step 1 - Calculate Logits\n",
    "* Step 2 - Calculate Loss\n",
    "* Step 3 - Zeroing the Gradients\n",
    "* Step 4 - Back Propogation\n",
    "* Step 5 - Trace Logs at every 10th iteration"
   ]
  },
  {
   "cell_type": "code",
   "execution_count": 14,
   "metadata": {},
   "outputs": [],
   "source": [
    "def train(epoch):\n",
    "    \n",
    "    model.train()\n",
    "    \n",
    "    for batch,(images, labels) in enumerate(train_loader):\n",
    "        \n",
    "        logits = model(images)\n",
    "        loss_obj = loss(logits, labels)\n",
    "        \n",
    "        optimizer.zero_grad()\n",
    "        loss_obj.backward()\n",
    "        \n",
    "        optimizer.step()\n",
    "    \n",
    "        if batch % 10 == 0:\n",
    "            train_loss.append(loss_obj.item())\n",
    "            train_accuracy.append(labels.eq(logits.detach().argmax(dim=1)).float().mean())\n",
    "            train_counter.append((batch * 100) + ((epoch-1)*len(train_loader.dataset)))\n",
    "    \n",
    "    train_loss_mean = torch.tensor(train_loss).mean()\n",
    "    train_accuracy_mean = torch.tensor(train_accuracy).mean()\n",
    "    \n",
    "    print(f\"Epoch {epoch}: Training Data Loss :{train_loss_mean} Accuracy: {train_accuracy_mean}\\n\")"
   ]
  },
  {
   "cell_type": "markdown",
   "metadata": {},
   "source": [
    "#### Function to apply Learning on Validation Data\n",
    "* Step 1 - Calculate Logits\n",
    "* Step 2 - Calculate Loss"
   ]
  },
  {
   "cell_type": "code",
   "execution_count": 15,
   "metadata": {},
   "outputs": [],
   "source": [
    "def test(epoch):\n",
    "    \n",
    "    model.eval()\n",
    "    \n",
    "    with torch.no_grad():\n",
    "        for batch,(images,labels) in enumerate(val_loader):\n",
    "            logits = model(images)\n",
    "            \n",
    "            loss_obj = loss(logits, labels)\n",
    "            \n",
    "            if batch % 10 == 0:\n",
    "                test_loss.append(loss_obj.item())\n",
    "                test_accuracy.append(labels.eq(logits.detach().argmax(dim=1)).float().mean())\n",
    "            \n",
    "    test_loss_mean = torch.tensor(test_loss).mean()\n",
    "    test_accuracy_mean = torch.tensor(test_accuracy).mean()\n",
    "    \n",
    "    print(f\"Epoch {epoch}: Validation Data Loss :{test_loss_mean} Accuracy: {test_accuracy_mean}\\n\")"
   ]
  },
  {
   "cell_type": "markdown",
   "metadata": {},
   "source": [
    "### Train the Model"
   ]
  },
  {
   "cell_type": "code",
   "execution_count": 16,
   "metadata": {},
   "outputs": [],
   "source": [
    "epochs = 5"
   ]
  },
  {
   "cell_type": "code",
   "execution_count": 17,
   "metadata": {},
   "outputs": [
    {
     "name": "stdout",
     "output_type": "stream",
     "text": [
      "Epoch 1: Training Data Loss :0.7806190252304077 Accuracy: 0.8101999759674072\n",
      "\n",
      "Epoch 1: Validation Data Loss :0.5411665439605713 Accuracy: 0.8679999113082886\n",
      "\n",
      "Epoch 2: Training Data Loss :0.6254215836524963 Accuracy: 0.8464999198913574\n",
      "\n",
      "Epoch 2: Validation Data Loss :0.5239796042442322 Accuracy: 0.8725000619888306\n",
      "\n",
      "Epoch 3: Training Data Loss :0.5661258697509766 Accuracy: 0.8599998950958252\n",
      "\n",
      "Epoch 3: Validation Data Loss :0.5142133235931396 Accuracy: 0.8740001320838928\n",
      "\n",
      "Epoch 4: Training Data Loss :0.5333955883979797 Accuracy: 0.8676999807357788\n",
      "\n",
      "Epoch 4: Validation Data Loss :0.5079742074012756 Accuracy: 0.8742499351501465\n",
      "\n",
      "Epoch 5: Training Data Loss :0.5120067000389099 Accuracy: 0.8728799819946289\n",
      "\n",
      "Epoch 5: Validation Data Loss :0.5036076307296753 Accuracy: 0.8745999932289124\n",
      "\n"
     ]
    }
   ],
   "source": [
    "for epoch in range(1, epochs+1):\n",
    "    train(epoch)\n",
    "    test(epoch)"
   ]
  },
  {
   "cell_type": "markdown",
   "metadata": {},
   "source": [
    "### Plot the Traced Logs for Loss and Accuracy"
   ]
  },
  {
   "cell_type": "code",
   "execution_count": 18,
   "metadata": {},
   "outputs": [
    {
     "data": {
      "image/png": "[encoded data removed]",
      "text/plain": [
       "<Figure size 1080x288 with 2 Axes>"
      ]
     },
     "metadata": {},
     "output_type": "display_data"
    }
   ],
   "source": [
    "plt.figure(figsize=(15,4),facecolor='lightblue')\n",
    "\n",
    "plt.suptitle(\"Tracing Loss and Accuracy in the Training Dataset\")\n",
    "\n",
    "ax1 = plt.subplot(1,2,1)\n",
    "ax1.plot(train_counter, train_loss, color='red')\n",
    "ax1.legend(['Train Loss'], loc='upper right')\n",
    "ax1.set_xlabel('Training examples seen')\n",
    "ax1.set_ylabel('Cross entropy loss')\n",
    "\n",
    "ax2 = plt.subplot(1,2,2)\n",
    "ax2.plot(train_counter, train_accuracy, color='green')\n",
    "ax2.legend(['Accuracy'], loc='best')\n",
    "ax2.set_xlabel('Training examples seen')\n",
    "ax2.set_ylabel('Accuracy')\n",
    "\n",
    "plt.savefig(\"tracing.png\")"
   ]
  },
  {
   "cell_type": "markdown",
   "metadata": {},
   "source": [
    "### Apply Model on Test Data\n",
    "Plug the model by removing gradients from the Tensors"
   ]
  },
  {
   "cell_type": "code",
   "execution_count": 19,
   "metadata": {},
   "outputs": [],
   "source": [
    "test_batch_size = 100\n",
    "test_loader = DataLoader(testtensor,test_batch_size) "
   ]
  },
  {
   "cell_type": "code",
   "execution_count": 20,
   "metadata": {},
   "outputs": [],
   "source": [
    "for images, labels in test_loader:\n",
    "    with torch.no_grad():\n",
    "        output = model(images)\n",
    "        break"
   ]
  },
  {
   "cell_type": "markdown",
   "metadata": {},
   "source": [
    "#### Plot the Predictions"
   ]
  },
  {
   "cell_type": "code",
   "execution_count": 21,
   "metadata": {},
   "outputs": [
    {
     "data": {
      "image/png": "[encoded data removed]",
      "text/plain": [
       "<Figure size 432x288 with 12 Axes>"
      ]
     },
     "metadata": {},
     "output_type": "display_data"
    }
   ],
   "source": [
    "fig = plt.figure()\n",
    "for i in range(12):\n",
    "  plt.subplot(3,4,i+1)\n",
    "  plt.tight_layout()\n",
    "  plt.imshow(images[i][0], cmap='gray', interpolation='none')\n",
    "  plt.title(f\"Prediction: {output.data.max(1)[1][i].item()}\")\n",
    "  \n",
    "  plt.xticks([])\n",
    "  plt.yticks([])\n",
    "plt.savefig(\"predictions.png\")"
   ]
  },
  {
   "cell_type": "markdown",
   "metadata": {},
   "source": [
    "### Save Model into Pickle File"
   ]
  },
  {
   "cell_type": "code",
   "execution_count": 22,
   "metadata": {},
   "outputs": [],
   "source": [
    "import pickle\n",
    "\n",
    "# wb - refers to writing as binary\n",
    "with open(\"cnn_mnist.pkl\",\"wb\") as file:\n",
    "    pickle.dump(model,file)"
   ]
  },
  {
   "cell_type": "code",
   "execution_count": 23,
   "metadata": {},
   "outputs": [],
   "source": [
    "with open(\"cnn_mnist.pkl\",\"rb\") as file:\n",
    "    cnn_model_mnist = pickle.load(file)"
   ]
  },
  {
   "cell_type": "markdown",
   "metadata": {},
   "source": [
    "---\n",
    "### Experiment with Random Handwritten Images\n",
    "<a href=\"https://github.com/penroselearning/curriculum/raw/master/professional/handwritten_digits.zip\">Link to Download Images</a>"
   ]
  },
  {
   "cell_type": "code",
   "execution_count": 24,
   "metadata": {},
   "outputs": [],
   "source": [
    "import glob\n",
    "from PIL import Image,ImageOps"
   ]
  },
  {
   "cell_type": "code",
   "execution_count": 28,
   "metadata": {},
   "outputs": [],
   "source": [
    "def predict_image(img,sno,model):\n",
    "    \n",
    "    img = glob.glob(img)\n",
    "  \n",
    "    img = Image.open(image)\n",
    "    img = img.resize((28, 28))\n",
    "    img = ImageOps.grayscale(img)\n",
    "\n",
    "    transform = transforms.ToTensor()\n",
    "    \n",
    "    transform = transforms.Compose([\n",
    "     transforms.ToTensor()])\n",
    "    \n",
    "    new_image = transform(img)\n",
    "    \n",
    "    new_image = new_image.expand(100,1,28,28)\n",
    "    \n",
    "    with torch.no_grad():\n",
    "        output = model(new_image)\n",
    "        \n",
    "    \n",
    "    plt.subplot(4,3,sno+1)\n",
    "    plt.tight_layout()\n",
    "    plt.imshow(new_image[0][0], cmap='gray', interpolation='none')\n",
    "    plt.title(f\"Prediction: {output.data.max(1)[1][0].item()}\")\n",
    "  \n",
    "    plt.xticks([])\n",
    "    plt.yticks([])"
   ]
  },
  {
   "cell_type": "code",
   "execution_count": 29,
   "metadata": {},
   "outputs": [
    {
     "data": {
      "image/png": "[encoded data removed]",
      "text/plain": [
       "<Figure size 648x648 with 11 Axes>"
      ]
     },
     "metadata": {},
     "output_type": "display_data"
    }
   ],
   "source": [
    "images = glob.glob(\"data/handwritten/*.png\")\n",
    "plt.figure(figsize=(9,9))\n",
    "\n",
    "for sno,image in enumerate(images):\n",
    "    predict_image(image,sno,cnn_model_mnist)\n",
    "    \n",
    "plt.savefig(\"random_prediction.png\")"
   ]
  },
  {
   "cell_type": "markdown",
   "metadata": {},
   "source": [
    "### Summary\n",
    "With a 97% Accuracy on the MNIST Model, we were able to get an 81% accuracy on random images of handwritten numbers"
   ]
  }
 ],
 "metadata": {
  "kernelspec": {
   "display_name": "Python 3",
   "language": "python",
   "name": "python3"
  },
  "language_info": {
   "codemirror_mode": {
    "name": "ipython",
    "version": 3
   },
   "file_extension": ".py",
   "mimetype": "text/x-python",
   "name": "python",
   "nbconvert_exporter": "python",
   "pygments_lexer": "ipython3",
   "version": "3.7.3"
  }
 },
 "nbformat": 4,
 "nbformat_minor": 4
}
