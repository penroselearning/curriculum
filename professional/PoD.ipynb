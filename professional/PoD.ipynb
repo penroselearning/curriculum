{
 "cells": [
  {
   "cell_type": "markdown",
   "metadata": {},
   "source": [
    "# Building a Model for Probability of Default\n",
    "---"
   ]
  },
  {
   "cell_type": "markdown",
   "metadata": {},
   "source": [
    "## Problem Statement\n",
    "Bank A has past records of its Bank Loan Customers who have either Fully Paid Off or Defaulted on their Loans. The Bank wants build wants to build a model that will predict if a future Loan customer would Default.\n",
    "\n",
    "## Approach\n",
    "Since the Dependant Variable (Loan Status) is Binary,i.e., either Default or Non-Default, it is a clear case of Logistic Regression.\n",
    "* Defaulter = 1\n",
    "* Non-Defaulter = 0\n",
    "\n",
    "## Steps\n",
    "* Import Data and Libraries\n",
    "* Data Description\n",
    "* Data Cleaning and Encoding\n",
    "    * Null Value Treatment\n",
    "    * Rename Columns\n",
    "    * Replace Values\n",
    "    * Encode Category columns to Numeric\n",
    "* Variable Selection\n",
    "    * Data Visualization\n",
    "    * Machine Learning Algorithm\n",
    "* Split the Data into Training and Testing Data\n",
    "* Build the Model\n",
    "* Performance Measurement\n",
    "* Actuals vs Predicted\n",
    "* Convert to Flat File\n",
    "---"
   ]
  },
  {
   "cell_type": "markdown",
   "metadata": {},
   "source": [
    "## Import Libraries"
   ]
  },
  {
   "cell_type": "code",
   "execution_count": 50,
   "metadata": {},
   "outputs": [],
   "source": [
    "import pandas as pd\n",
    "\n",
    "## For Detecting Outliers (Z Score)\n",
    "from scipy import stats\n",
    "## Numeric Functions\n",
    "import numpy as np\n",
    "## For Plots\n",
    "import matplotlib.pyplot as plt\n",
    "import seaborn as sns\n",
    "\n",
    "import warnings\n",
    "warnings.filterwarnings('ignore')"
   ]
  },
  {
   "cell_type": "markdown",
   "metadata": {},
   "source": [
    "## Import Dataset"
   ]
  },
  {
   "cell_type": "code",
   "execution_count": 197,
   "metadata": {},
   "outputs": [],
   "source": [
    "df = pd.read_csv(\"https://github.com/penroselearning/curriculum/raw/master/professional/bank_loan_data.csv\")"
   ]
  },
  {
   "cell_type": "markdown",
   "metadata": {},
   "source": [
    "## Data Structure and Exploration"
   ]
  },
  {
   "cell_type": "code",
   "execution_count": 198,
   "metadata": {},
   "outputs": [
    {
     "data": {
      "text/plain": [
       "(24642, 19)"
      ]
     },
     "execution_count": 198,
     "metadata": {},
     "output_type": "execute_result"
    }
   ],
   "source": [
    "df.shape"
   ]
  },
  {
   "cell_type": "code",
   "execution_count": 199,
   "metadata": {},
   "outputs": [
    {
     "name": "stdout",
     "output_type": "stream",
     "text": [
      "<class 'pandas.core.frame.DataFrame'>\n",
      "RangeIndex: 24642 entries, 0 to 24641\n",
      "Data columns (total 19 columns):\n",
      " #   Column                        Non-Null Count  Dtype  \n",
      "---  ------                        --------------  -----  \n",
      " 0   Loan ID                       24642 non-null  object \n",
      " 1   Customer ID                   24642 non-null  object \n",
      " 2   Loan Status                   24642 non-null  object \n",
      " 3   Current Loan Amount           24642 non-null  int64  \n",
      " 4   Term                          24642 non-null  object \n",
      " 5   Credit Score                  24592 non-null  float64\n",
      " 6   Annual Income                 24642 non-null  int64  \n",
      " 7   Years in current job          24553 non-null  object \n",
      " 8   Home Ownership                24642 non-null  object \n",
      " 9   Purpose                       24642 non-null  object \n",
      " 10  Monthly Debt                  24642 non-null  float64\n",
      " 11  Years of Credit History       24642 non-null  float64\n",
      " 12  Months since last delinquent  24642 non-null  int64  \n",
      " 13  Number of Open Accounts       24642 non-null  int64  \n",
      " 14  Number of Credit Problems     24642 non-null  int64  \n",
      " 15  Current Credit Balance        24642 non-null  int64  \n",
      " 16  Maximum Open Credit           24641 non-null  float64\n",
      " 17  Bankruptcies                  24607 non-null  float64\n",
      " 18  Tax Liens                     24633 non-null  float64\n",
      "dtypes: float64(6), int64(6), object(7)\n",
      "memory usage: 3.6+ MB\n"
     ]
    }
   ],
   "source": [
    "df.info()"
   ]
  },
  {
   "cell_type": "markdown",
   "metadata": {},
   "source": [
    "---\n",
    "Display first 6 Rows and first 6 Columns"
   ]
  },
  {
   "cell_type": "code",
   "execution_count": 200,
   "metadata": {},
   "outputs": [
    {
     "data": {
      "text/html": [
       "<div>\n",
       "<style scoped>\n",
       "    .dataframe tbody tr th:only-of-type {\n",
       "        vertical-align: middle;\n",
       "    }\n",
       "\n",
       "    .dataframe tbody tr th {\n",
       "        vertical-align: top;\n",
       "    }\n",
       "\n",
       "    .dataframe thead th {\n",
       "        text-align: right;\n",
       "    }\n",
       "</style>\n",
       "<table border=\"1\" class=\"dataframe\">\n",
       "  <thead>\n",
       "    <tr style=\"text-align: right;\">\n",
       "      <th></th>\n",
       "      <th>Loan ID</th>\n",
       "      <th>Customer ID</th>\n",
       "      <th>Loan Status</th>\n",
       "      <th>Current Loan Amount</th>\n",
       "      <th>Term</th>\n",
       "      <th>Credit Score</th>\n",
       "    </tr>\n",
       "  </thead>\n",
       "  <tbody>\n",
       "    <tr>\n",
       "      <th>0</th>\n",
       "      <td>98f1645b-5913-4711-80be-b23b5b67f0d5</td>\n",
       "      <td>137a0896-09bf-4aef-ae06-312e5d9392c7</td>\n",
       "      <td>Charged Off</td>\n",
       "      <td>257796</td>\n",
       "      <td>Short Term</td>\n",
       "      <td>370.0</td>\n",
       "    </tr>\n",
       "    <tr>\n",
       "      <th>1</th>\n",
       "      <td>afd17b85-ecf1-4f8f-80da-677d94c4fbb8</td>\n",
       "      <td>708a6d74-ec6f-4d38-bf7d-441d637adcf1</td>\n",
       "      <td>Fully Paid</td>\n",
       "      <td>224730</td>\n",
       "      <td>Short Term</td>\n",
       "      <td>696.0</td>\n",
       "    </tr>\n",
       "    <tr>\n",
       "      <th>2</th>\n",
       "      <td>df703d2e-dc45-4aaf-a838-52817d0095ff</td>\n",
       "      <td>bc141c8a-74a0-4e31-8dc8-88cc3e93633e</td>\n",
       "      <td>Charged Off</td>\n",
       "      <td>269324</td>\n",
       "      <td>Short Term</td>\n",
       "      <td>387.0</td>\n",
       "    </tr>\n",
       "    <tr>\n",
       "      <th>3</th>\n",
       "      <td>2fcbf874-9ed3-47a0-964b-74b0c5a75ad0</td>\n",
       "      <td>f318b22d-87df-40ba-aa2c-1eb2d7078e98</td>\n",
       "      <td>Fully Paid</td>\n",
       "      <td>421432</td>\n",
       "      <td>Short Term</td>\n",
       "      <td>697.0</td>\n",
       "    </tr>\n",
       "    <tr>\n",
       "      <th>4</th>\n",
       "      <td>a0c67880-b55a-44a0-842c-c2a7ba974c3b</td>\n",
       "      <td>0d365a60-03dc-4faa-b9be-b6161a2f6cee</td>\n",
       "      <td>Fully Paid</td>\n",
       "      <td>331628</td>\n",
       "      <td>Short Term</td>\n",
       "      <td>692.0</td>\n",
       "    </tr>\n",
       "    <tr>\n",
       "      <th>5</th>\n",
       "      <td>6c13c8f5-9728-4f3c-bd7c-7b5462c18be0</td>\n",
       "      <td>01a1dd71-23b2-42c2-b63a-b1584b2f0074</td>\n",
       "      <td>Fully Paid</td>\n",
       "      <td>357742</td>\n",
       "      <td>Long Term</td>\n",
       "      <td>655.0</td>\n",
       "    </tr>\n",
       "  </tbody>\n",
       "</table>\n",
       "</div>"
      ],
      "text/plain": [
       "                                Loan ID                           Customer ID  \\\n",
       "0  98f1645b-5913-4711-80be-b23b5b67f0d5  137a0896-09bf-4aef-ae06-312e5d9392c7   \n",
       "1  afd17b85-ecf1-4f8f-80da-677d94c4fbb8  708a6d74-ec6f-4d38-bf7d-441d637adcf1   \n",
       "2  df703d2e-dc45-4aaf-a838-52817d0095ff  bc141c8a-74a0-4e31-8dc8-88cc3e93633e   \n",
       "3  2fcbf874-9ed3-47a0-964b-74b0c5a75ad0  f318b22d-87df-40ba-aa2c-1eb2d7078e98   \n",
       "4  a0c67880-b55a-44a0-842c-c2a7ba974c3b  0d365a60-03dc-4faa-b9be-b6161a2f6cee   \n",
       "5  6c13c8f5-9728-4f3c-bd7c-7b5462c18be0  01a1dd71-23b2-42c2-b63a-b1584b2f0074   \n",
       "\n",
       "   Loan Status  Current Loan Amount        Term  Credit Score  \n",
       "0  Charged Off               257796  Short Term         370.0  \n",
       "1   Fully Paid               224730  Short Term         696.0  \n",
       "2  Charged Off               269324  Short Term         387.0  \n",
       "3   Fully Paid               421432  Short Term         697.0  \n",
       "4   Fully Paid               331628  Short Term         692.0  \n",
       "5   Fully Paid               357742   Long Term         655.0  "
      ]
     },
     "execution_count": 200,
     "metadata": {},
     "output_type": "execute_result"
    }
   ],
   "source": [
    "df.iloc[0:6,0:6]"
   ]
  },
  {
   "cell_type": "code",
   "execution_count": 201,
   "metadata": {},
   "outputs": [
    {
     "data": {
      "text/plain": [
       "array(['< 1 year', '1 year', '10+ years', nan, '2 years', '3 years',\n",
       "       '4 years', '5 years', '7 years', '8 years', '9 years', '6 years'],\n",
       "      dtype=object)"
      ]
     },
     "execution_count": 201,
     "metadata": {},
     "output_type": "execute_result"
    }
   ],
   "source": [
    "df[\"Years in current job\"].unique()"
   ]
  },
  {
   "cell_type": "code",
   "execution_count": 202,
   "metadata": {},
   "outputs": [
    {
     "data": {
      "text/plain": [
       "array(['Rent', 'Home Mortgage', 'Own Home', 'HaveMortgage'], dtype=object)"
      ]
     },
     "execution_count": 202,
     "metadata": {},
     "output_type": "execute_result"
    }
   ],
   "source": [
    "df[\"Home Ownership\"].unique()"
   ]
  },
  {
   "cell_type": "code",
   "execution_count": 203,
   "metadata": {},
   "outputs": [
    {
     "data": {
      "text/plain": [
       "array(['Debt Consolidation', 'Other', 'Home Improvements',\n",
       "       'Medical Bills', 'Business Loan', 'moving', 'Buy a Car',\n",
       "       'Buy House', 'vacation', 'Educational Expenses', 'wedding',\n",
       "       'renewable_energy'], dtype=object)"
      ]
     },
     "execution_count": 203,
     "metadata": {},
     "output_type": "execute_result"
    }
   ],
   "source": [
    "df[\"Purpose\"].unique()"
   ]
  },
  {
   "cell_type": "code",
   "execution_count": 204,
   "metadata": {},
   "outputs": [
    {
     "data": {
      "text/plain": [
       "10+ years    8798\n",
       "2 years      2201\n",
       "3 years      2022\n",
       "< 1 year     1860\n",
       "5 years      1705\n",
       "1 year       1558\n",
       "4 years      1519\n",
       "6 years      1421\n",
       "7 years      1397\n",
       "8 years      1136\n",
       "9 years       936\n",
       "Name: Years in current job, dtype: int64"
      ]
     },
     "execution_count": 204,
     "metadata": {},
     "output_type": "execute_result"
    }
   ],
   "source": [
    "df[\"Years in current job\"].value_counts()"
   ]
  },
  {
   "cell_type": "code",
   "execution_count": 205,
   "metadata": {},
   "outputs": [
    {
     "data": {
      "text/plain": [
       "<matplotlib.axes._subplots.AxesSubplot at 0x1a293d2c18>"
      ]
     },
     "execution_count": 205,
     "metadata": {},
     "output_type": "execute_result"
    },
    {
     "data": {
      "image/png": "[encoded data removed]",
      "text/plain": [
       "<Figure size 432x288 with 1 Axes>"
      ]
     },
     "metadata": {
      "needs_background": "light"
     },
     "output_type": "display_data"
    }
   ],
   "source": [
    "df[\"Current Loan Amount\"].hist()"
   ]
  },
  {
   "cell_type": "code",
   "execution_count": 206,
   "metadata": {},
   "outputs": [
    {
     "data": {
      "text/plain": [
       "<matplotlib.axes._subplots.AxesSubplot at 0x1a28c05a90>"
      ]
     },
     "execution_count": 206,
     "metadata": {},
     "output_type": "execute_result"
    },
    {
     "data": {
      "image/png": "[encoded data removed]",
      "text/plain": [
       "<Figure size 432x288 with 1 Axes>"
      ]
     },
     "metadata": {
      "needs_background": "light"
     },
     "output_type": "display_data"
    }
   ],
   "source": [
    "df[\"Home Ownership\"].value_counts().plot(kind=\"barh\")"
   ]
  },
  {
   "cell_type": "markdown",
   "metadata": {},
   "source": [
    "## Data Cleaning"
   ]
  },
  {
   "cell_type": "markdown",
   "metadata": {},
   "source": [
    "### Locate Null Values"
   ]
  },
  {
   "cell_type": "code",
   "execution_count": 207,
   "metadata": {},
   "outputs": [
    {
     "data": {
      "text/plain": [
       "Loan ID                          0\n",
       "Customer ID                      0\n",
       "Loan Status                      0\n",
       "Current Loan Amount              0\n",
       "Term                             0\n",
       "Credit Score                    50\n",
       "Annual Income                    0\n",
       "Years in current job            89\n",
       "Home Ownership                   0\n",
       "Purpose                          0\n",
       "Monthly Debt                     0\n",
       "Years of Credit History          0\n",
       "Months since last delinquent     0\n",
       "Number of Open Accounts          0\n",
       "Number of Credit Problems        0\n",
       "Current Credit Balance           0\n",
       "Maximum Open Credit              1\n",
       "Bankruptcies                    35\n",
       "Tax Liens                        9\n",
       "dtype: int64"
      ]
     },
     "execution_count": 207,
     "metadata": {},
     "output_type": "execute_result"
    }
   ],
   "source": [
    "df.isnull().sum()"
   ]
  },
  {
   "cell_type": "markdown",
   "metadata": {},
   "source": [
    "### Replace Null Values"
   ]
  },
  {
   "cell_type": "code",
   "execution_count": 208,
   "metadata": {},
   "outputs": [],
   "source": [
    "df[\"Years in current job\"].fillna(df[\"Years in current job\"].mode()[0],inplace=True)"
   ]
  },
  {
   "cell_type": "code",
   "execution_count": 209,
   "metadata": {},
   "outputs": [],
   "source": [
    "cols = [\"Credit Score\",\"Maximum Open Credit\",\"Bankruptcies\",\"Tax Liens\"]\n",
    "\n",
    "for col in cols:\n",
    "    df[col].fillna(df[col].median(),inplace = True)"
   ]
  },
  {
   "cell_type": "markdown",
   "metadata": {},
   "source": [
    "### Replace Values"
   ]
  },
  {
   "cell_type": "code",
   "execution_count": 210,
   "metadata": {},
   "outputs": [],
   "source": [
    "df[\"Home Ownership\"].replace(\"HaveMortgage\",\"Home Mortgage\",inplace=True)"
   ]
  },
  {
   "cell_type": "markdown",
   "metadata": {},
   "source": [
    "---\n",
    "## Data Encoding"
   ]
  },
  {
   "cell_type": "markdown",
   "metadata": {},
   "source": [
    "Replace Text Columns to Numeric"
   ]
  },
  {
   "cell_type": "code",
   "execution_count": 211,
   "metadata": {},
   "outputs": [
    {
     "data": {
      "text/plain": [
       "array(['Charged Off', 'Fully Paid'], dtype=object)"
      ]
     },
     "execution_count": 211,
     "metadata": {},
     "output_type": "execute_result"
    }
   ],
   "source": [
    "df[\"Loan Status\"].unique()"
   ]
  },
  {
   "cell_type": "code",
   "execution_count": 212,
   "metadata": {},
   "outputs": [],
   "source": [
    "df[\"Defaulter\"] = df[\"Loan Status\"].apply(lambda x : 1 if x==\"Charged Off\" else 0)"
   ]
  },
  {
   "cell_type": "code",
   "execution_count": 213,
   "metadata": {},
   "outputs": [
    {
     "data": {
      "text/plain": [
       "<matplotlib.axes._subplots.AxesSubplot at 0x1a26fbd160>"
      ]
     },
     "execution_count": 213,
     "metadata": {},
     "output_type": "execute_result"
    },
    {
     "data": {
      "image/png": "[encoded data removed]",
      "text/plain": [
       "<Figure size 432x288 with 1 Axes>"
      ]
     },
     "metadata": {
      "needs_background": "light"
     },
     "output_type": "display_data"
    }
   ],
   "source": [
    "df[\"Loan Status\"].value_counts().plot(kind=\"barh\")"
   ]
  },
  {
   "cell_type": "code",
   "execution_count": 214,
   "metadata": {},
   "outputs": [],
   "source": [
    "import re\n",
    "def extract_number(years):\n",
    "    search_term = '[0-9]'\n",
    "    years_in_current_job = re.findall(search_term,years)\n",
    "    return int(\"\".join(years_in_current_job))"
   ]
  },
  {
   "cell_type": "code",
   "execution_count": 215,
   "metadata": {},
   "outputs": [],
   "source": [
    "df['Years in current job'] = df['Years in current job'].apply(lambda x : extract_number(x))"
   ]
  },
  {
   "cell_type": "code",
   "execution_count": 216,
   "metadata": {},
   "outputs": [
    {
     "data": {
      "text/plain": [
       "array(['Short Term', 'Long Term'], dtype=object)"
      ]
     },
     "execution_count": 216,
     "metadata": {},
     "output_type": "execute_result"
    }
   ],
   "source": [
    "df['Term'].unique()"
   ]
  },
  {
   "cell_type": "markdown",
   "metadata": {},
   "source": [
    "### One Hot Encoding"
   ]
  },
  {
   "cell_type": "code",
   "execution_count": 217,
   "metadata": {},
   "outputs": [],
   "source": [
    "df= pd.get_dummies(df,columns=['Term', 'Home Ownership',\n",
    "       'Purpose'])"
   ]
  },
  {
   "cell_type": "markdown",
   "metadata": {},
   "source": [
    "### Drop Column"
   ]
  },
  {
   "cell_type": "code",
   "execution_count": 218,
   "metadata": {},
   "outputs": [],
   "source": [
    "df.drop(['Loan ID', 'Customer ID','Loan Status'],axis=1,inplace=True)"
   ]
  },
  {
   "cell_type": "markdown",
   "metadata": {},
   "source": [
    "### Detecting and Removing Outliers"
   ]
  },
  {
   "cell_type": "code",
   "execution_count": 219,
   "metadata": {},
   "outputs": [],
   "source": [
    "cols = list(df.select_dtypes(include=['int64','float64']))\n",
    "\n",
    "df_zscore = np.abs(df[cols].apply(stats.zscore))\n",
    "outliers = list(df_zscore[df_zscore > 3].dropna(thresh=1).index)\n",
    "\n",
    "df.drop(df.index[outliers],inplace=True)"
   ]
  },
  {
   "cell_type": "code",
   "execution_count": 220,
   "metadata": {},
   "outputs": [
    {
     "data": {
      "text/plain": [
       "(22404, 31)"
      ]
     },
     "execution_count": 220,
     "metadata": {},
     "output_type": "execute_result"
    }
   ],
   "source": [
    "df.shape"
   ]
  },
  {
   "cell_type": "code",
   "execution_count": 221,
   "metadata": {},
   "outputs": [
    {
     "data": {
      "text/html": [
       "<div>\n",
       "<style scoped>\n",
       "    .dataframe tbody tr th:only-of-type {\n",
       "        vertical-align: middle;\n",
       "    }\n",
       "\n",
       "    .dataframe tbody tr th {\n",
       "        vertical-align: top;\n",
       "    }\n",
       "\n",
       "    .dataframe thead th {\n",
       "        text-align: right;\n",
       "    }\n",
       "</style>\n",
       "<table border=\"1\" class=\"dataframe\">\n",
       "  <thead>\n",
       "    <tr style=\"text-align: right;\">\n",
       "      <th></th>\n",
       "      <th>Defaulter</th>\n",
       "      <th>Credit Score</th>\n",
       "    </tr>\n",
       "  </thead>\n",
       "  <tbody>\n",
       "    <tr>\n",
       "      <th>Defaulter</th>\n",
       "      <td>1.000000</td>\n",
       "      <td>-0.937053</td>\n",
       "    </tr>\n",
       "    <tr>\n",
       "      <th>Credit Score</th>\n",
       "      <td>-0.937053</td>\n",
       "      <td>1.000000</td>\n",
       "    </tr>\n",
       "  </tbody>\n",
       "</table>\n",
       "</div>"
      ],
      "text/plain": [
       "              Defaulter  Credit Score\n",
       "Defaulter      1.000000     -0.937053\n",
       "Credit Score  -0.937053      1.000000"
      ]
     },
     "execution_count": 221,
     "metadata": {},
     "output_type": "execute_result"
    }
   ],
   "source": [
    "df[[\"Defaulter\",\"Credit Score\"]].corr()"
   ]
  },
  {
   "cell_type": "markdown",
   "metadata": {},
   "source": [
    "### Data Visualization"
   ]
  },
  {
   "cell_type": "code",
   "execution_count": 222,
   "metadata": {},
   "outputs": [],
   "source": [
    "def visualize(col):\n",
    "    plt.figure(figsize=(16,4))\n",
    "    \n",
    "    plt.suptitle(col)\n",
    "    \n",
    "    plt.subplot(1,2,1)\n",
    "    plt.title(\"Histogram\")\n",
    "    df[col].hist()\n",
    "\n",
    "    plt.subplot(1,2,2)\n",
    "    plt.title(\"Box Plot\")\n",
    "    sns.boxplot(x = df[\"Defaulter\"],y = df[col])"
   ]
  },
  {
   "cell_type": "code",
   "execution_count": 223,
   "metadata": {},
   "outputs": [
    {
     "data": {
      "image/png": "[encoded data removed]",
      "text/plain": [
       "<Figure size 1152x288 with 2 Axes>"
      ]
     },
     "metadata": {
      "needs_background": "light"
     },
     "output_type": "display_data"
    },
    {
     "data": {
      "image/png": "[encoded data removed]",
      "text/plain": [
       "<Figure size 1152x288 with 2 Axes>"
      ]
     },
     "metadata": {
      "needs_background": "light"
     },
     "output_type": "display_data"
    },
    {
     "data": {
      "image/png": "[encoded data removed]",
      "text/plain": [
       "<Figure size 1152x288 with 2 Axes>"
      ]
     },
     "metadata": {
      "needs_background": "light"
     },
     "output_type": "display_data"
    },
    {
     "data": {
      "image/png": "[encoded data removed]",
      "text/plain": [
       "<Figure size 1152x288 with 2 Axes>"
      ]
     },
     "metadata": {
      "needs_background": "light"
     },
     "output_type": "display_data"
    },
    {
     "data": {
      "image/png": "[encoded data removed]",
      "text/plain": [
       "<Figure size 1152x288 with 2 Axes>"
      ]
     },
     "metadata": {
      "needs_background": "light"
     },
     "output_type": "display_data"
    },
    {
     "data": {
      "image/png": "[encoded data removed]",
      "text/plain": [
       "<Figure size 1152x288 with 2 Axes>"
      ]
     },
     "metadata": {
      "needs_background": "light"
     },
     "output_type": "display_data"
    },
    {
     "data": {
      "image/png": "[encoded data removed]",
      "text/plain": [
       "<Figure size 1152x288 with 2 Axes>"
      ]
     },
     "metadata": {
      "needs_background": "light"
     },
     "output_type": "display_data"
    }
   ],
   "source": [
    "cols_for_visualization = ['Current Loan Amount','Annual Income','Credit Score','Years in current job',\n",
    "                          'Number of Open Accounts','Number of Credit Problems','Current Credit Balance']\n",
    "\n",
    "for col in cols_for_visualization:\n",
    "    visualize(col)"
   ]
  },
  {
   "cell_type": "markdown",
   "metadata": {},
   "source": [
    "---\n",
    "## Variable Selection"
   ]
  },
  {
   "cell_type": "code",
   "execution_count": 224,
   "metadata": {},
   "outputs": [],
   "source": [
    "from sklearn.feature_selection import RFE\n",
    "from sklearn.linear_model import LogisticRegression\n",
    "\n",
    "cols = list(df.select_dtypes(include=['uint8','int64','float64']).columns)\n",
    "\n",
    "X = df[[col for col in cols if col !='Defaulter']]\n",
    "y = df[['Defaulter']]\n",
    "\n",
    "model = LogisticRegression(solver='lbfgs')\n",
    "rfe = RFE(model, 5)\n",
    "fit = rfe.fit(X, y)"
   ]
  },
  {
   "cell_type": "code",
   "execution_count": 225,
   "metadata": {},
   "outputs": [
    {
     "data": {
      "text/plain": [
       "[('Current Loan Amount', False, 10),\n",
       " ('Credit Score', False, 4),\n",
       " ('Annual Income', False, 11),\n",
       " ('Years in current job', False, 7),\n",
       " ('Monthly Debt', False, 9),\n",
       " ('Years of Credit History', False, 6),\n",
       " ('Months since last delinquent', False, 8),\n",
       " ('Number of Open Accounts', False, 2),\n",
       " ('Number of Credit Problems', True, 1),\n",
       " ('Current Credit Balance', False, 12),\n",
       " ('Maximum Open Credit', False, 23),\n",
       " ('Bankruptcies', False, 5),\n",
       " ('Tax Liens', False, 26),\n",
       " ('Term_Long Term', True, 1),\n",
       " ('Term_Short Term', True, 1),\n",
       " ('Home Ownership_Home Mortgage', True, 1),\n",
       " ('Home Ownership_Own Home', False, 13),\n",
       " ('Home Ownership_Rent', False, 15),\n",
       " ('Purpose_Business Loan', True, 1),\n",
       " ('Purpose_Buy House', False, 20),\n",
       " ('Purpose_Buy a Car', False, 14),\n",
       " ('Purpose_Debt Consolidation', False, 3),\n",
       " ('Purpose_Educational Expenses', False, 24),\n",
       " ('Purpose_Home Improvements', False, 18),\n",
       " ('Purpose_Medical Bills', False, 17),\n",
       " ('Purpose_Other', False, 16),\n",
       " ('Purpose_moving', False, 19),\n",
       " ('Purpose_renewable_energy', False, 25),\n",
       " ('Purpose_vacation', False, 21),\n",
       " ('Purpose_wedding', False, 22)]"
      ]
     },
     "execution_count": 225,
     "metadata": {},
     "output_type": "execute_result"
    }
   ],
   "source": [
    "list(zip(X.columns,fit.support_,fit.ranking_))"
   ]
  },
  {
   "cell_type": "markdown",
   "metadata": {},
   "source": [
    "#### Selected variables with Ranking of 1"
   ]
  },
  {
   "cell_type": "code",
   "execution_count": 226,
   "metadata": {},
   "outputs": [],
   "source": [
    "selected_cols = list(X.columns[rfe.support_])"
   ]
  },
  {
   "cell_type": "code",
   "execution_count": 227,
   "metadata": {},
   "outputs": [
    {
     "data": {
      "text/plain": [
       "['Number of Credit Problems',\n",
       " 'Term_Long Term',\n",
       " 'Term_Short Term',\n",
       " 'Home Ownership_Home Mortgage',\n",
       " 'Purpose_Business Loan']"
      ]
     },
     "execution_count": 227,
     "metadata": {},
     "output_type": "execute_result"
    }
   ],
   "source": [
    "selected_cols"
   ]
  },
  {
   "cell_type": "code",
   "execution_count": 228,
   "metadata": {},
   "outputs": [],
   "source": [
    "selected_cols.append(\"Credit Score\")"
   ]
  },
  {
   "cell_type": "markdown",
   "metadata": {},
   "source": [
    "#### Correlation of selected columns with Dependent Variable"
   ]
  },
  {
   "cell_type": "code",
   "execution_count": 229,
   "metadata": {},
   "outputs": [
    {
     "data": {
      "text/plain": [
       "Number of Credit Problems       0.003318\n",
       "Term_Long Term                  0.140521\n",
       "Term_Short Term                 0.140521\n",
       "Home Ownership_Home Mortgage    0.064485\n",
       "Purpose_Business Loan           0.033679\n",
       "Credit Score                    0.937053\n",
       "Name: Defaulter, dtype: float64"
      ]
     },
     "execution_count": 229,
     "metadata": {},
     "output_type": "execute_result"
    }
   ],
   "source": [
    "corr = df.corr().abs()\n",
    "corr = corr[\"Defaulter\"]\n",
    "corr.loc[selected_cols]"
   ]
  },
  {
   "cell_type": "markdown",
   "metadata": {},
   "source": [
    "---\n",
    "## Splitting the Data - Training and Testing Data Set"
   ]
  },
  {
   "cell_type": "code",
   "execution_count": 230,
   "metadata": {},
   "outputs": [],
   "source": [
    "df_final = df.copy()"
   ]
  },
  {
   "cell_type": "code",
   "execution_count": 231,
   "metadata": {},
   "outputs": [],
   "source": [
    "#X - independent variables\n",
    "#y - dependent variable\n",
    "\n",
    "X = df_final[selected_cols]\n",
    "y = df_final['Defaulter']\n",
    "\n",
    "from sklearn.model_selection import train_test_split\n",
    "from sklearn.preprocessing import StandardScaler\n",
    "X_train, X_test, y_train, y_test = train_test_split(StandardScaler().fit_transform(X), y,test_size=0.3,random_state=100)"
   ]
  },
  {
   "cell_type": "markdown",
   "metadata": {},
   "source": [
    "---\n",
    "## Build the Model"
   ]
  },
  {
   "cell_type": "code",
   "execution_count": 232,
   "metadata": {},
   "outputs": [
    {
     "data": {
      "text/plain": [
       "LogisticRegression(C=1.0, class_weight=None, dual=False, fit_intercept=True,\n",
       "                   intercept_scaling=1, l1_ratio=None, max_iter=100,\n",
       "                   multi_class='warn', n_jobs=None, penalty='l2',\n",
       "                   random_state=None, solver='warn', tol=0.0001, verbose=0,\n",
       "                   warm_start=False)"
      ]
     },
     "execution_count": 232,
     "metadata": {},
     "output_type": "execute_result"
    }
   ],
   "source": [
    "from sklearn.linear_model import LogisticRegression\n",
    "\n",
    "model = LogisticRegression()\n",
    "\n",
    "model.fit(X_train,y_train)"
   ]
  },
  {
   "cell_type": "markdown",
   "metadata": {},
   "source": [
    "### Check the Model Accuracy"
   ]
  },
  {
   "cell_type": "code",
   "execution_count": 233,
   "metadata": {},
   "outputs": [
    {
     "data": {
      "text/plain": [
       "0.9815531091936923"
      ]
     },
     "execution_count": 233,
     "metadata": {},
     "output_type": "execute_result"
    }
   ],
   "source": [
    "model.score(X_test,y_test)"
   ]
  },
  {
   "cell_type": "markdown",
   "metadata": {},
   "source": [
    "### Create an Array containing the predictions"
   ]
  },
  {
   "cell_type": "code",
   "execution_count": 234,
   "metadata": {},
   "outputs": [
    {
     "data": {
      "text/plain": [
       "array([0, 1, 1, ..., 0, 0, 0])"
      ]
     },
     "execution_count": 234,
     "metadata": {},
     "output_type": "execute_result"
    }
   ],
   "source": [
    "y_predict = model.predict(X_test)\n",
    "y_predict"
   ]
  },
  {
   "cell_type": "markdown",
   "metadata": {},
   "source": [
    "---\n",
    "## Performance Measurement"
   ]
  },
  {
   "cell_type": "code",
   "execution_count": 235,
   "metadata": {},
   "outputs": [
    {
     "name": "stdout",
     "output_type": "stream",
     "text": [
      "[[4639  101]\n",
      " [  23 1959]]\n"
     ]
    }
   ],
   "source": [
    "from sklearn.metrics import confusion_matrix\n",
    "print(confusion_matrix(y_test, y_predict))"
   ]
  },
  {
   "cell_type": "markdown",
   "metadata": {},
   "source": [
    "* Top Left - True Negative\n",
    "* Top Right - False Positive\n",
    "* Bottom Left - False Negative\n",
    "* Bottom Right - True Positive"
   ]
  },
  {
   "cell_type": "code",
   "execution_count": 236,
   "metadata": {},
   "outputs": [
    {
     "name": "stdout",
     "output_type": "stream",
     "text": [
      "              precision    recall  f1-score   support\n",
      "\n",
      "           0       1.00      0.98      0.99      4740\n",
      "           1       0.95      0.99      0.97      1982\n",
      "\n",
      "    accuracy                           0.98      6722\n",
      "   macro avg       0.97      0.98      0.98      6722\n",
      "weighted avg       0.98      0.98      0.98      6722\n",
      "\n"
     ]
    }
   ],
   "source": [
    "from sklearn.metrics import classification_report\n",
    "print(classification_report(y_test,y_predict))"
   ]
  },
  {
   "cell_type": "markdown",
   "metadata": {},
   "source": [
    "## New Data Frame with Predicted Data"
   ]
  },
  {
   "cell_type": "code",
   "execution_count": 237,
   "metadata": {},
   "outputs": [],
   "source": [
    "pred = y_test.copy()\n",
    "pred = pred.to_frame()\n",
    "\n",
    "pred.insert(1,\"Prediction\",y_predict)\n",
    "pred.rename(columns={\"Defaulter\":\"Actual\"},inplace=True)"
   ]
  },
  {
   "cell_type": "code",
   "execution_count": 238,
   "metadata": {},
   "outputs": [],
   "source": [
    "fn = list(pred[(pred[\"Actual\"]==1) & (pred[\"Prediction\"]==0)].index)\n",
    "fp = list(pred[(pred[\"Actual\"]==0) & (pred[\"Prediction\"]==1)].index)\n",
    "\n",
    "df[df.index.isin(fp)].to_csv(\"_fp.csv\")\n",
    "df[df.index.isin(fn)].to_csv(\"_fn.csv\")"
   ]
  },
  {
   "cell_type": "markdown",
   "metadata": {},
   "source": [
    "---\n",
    "## Converting to Flat File\n",
    "The flat file can be plugged into an application for Prediction on Live Data"
   ]
  },
  {
   "cell_type": "code",
   "execution_count": 240,
   "metadata": {},
   "outputs": [],
   "source": [
    "import pickle\n",
    "\n",
    "# wb - refers to writing as binary\n",
    "with open(\"algorithm.pkl\",\"wb\") as file:\n",
    "    pickle.dump(model,file)"
   ]
  }
 ],
 "metadata": {
  "kernelspec": {
   "display_name": "Python 3",
   "language": "python",
   "name": "python3"
  },
  "language_info": {
   "codemirror_mode": {
    "name": "ipython",
    "version": 3
   },
   "file_extension": ".py",
   "mimetype": "text/x-python",
   "name": "python",
   "nbconvert_exporter": "python",
   "pygments_lexer": "ipython3",
   "version": "3.7.3"
  }
 },
 "nbformat": 4,
 "nbformat_minor": 4
}
